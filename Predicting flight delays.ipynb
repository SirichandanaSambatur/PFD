{
 "cells": [
  {
   "cell_type": "code",
   "execution_count": 1,
   "metadata": {
    "collapsed": true
   },
   "outputs": [],
   "source": [
    "# loading necessary libraries\n",
    "import pandas as pd\n",
    "import numpy as np\n",
    "import matplotlib.pyplot as plt\n",
    "import seaborn as sns"
   ]
  },
  {
   "cell_type": "code",
   "execution_count": 2,
   "metadata": {
    "collapsed": true
   },
   "outputs": [],
   "source": [
    "# loading the data\n",
    "airlines = pd.read_csv(\"dataset/airlines.csv\")\n",
    "airports = pd.read_csv(\"dataset/airports.csv\")\n",
    "flights = pd.read_csv(\"dataset/flights.csv\",dtype={'TAIL_NUMBER' : str, 'ORIGIN_AIRPORT' : str, \\\n",
    "'DESTINATION_AIRPORT' : str})"
   ]
  },
  {
   "cell_type": "markdown",
   "metadata": {},
   "source": [
    "## Data Exploration"
   ]
  },
  {
   "cell_type": "code",
   "execution_count": 3,
   "metadata": {},
   "outputs": [
    {
     "data": {
      "text/html": [
       "<div>\n",
       "<style>\n",
       "    .dataframe thead tr:only-child th {\n",
       "        text-align: right;\n",
       "    }\n",
       "\n",
       "    .dataframe thead th {\n",
       "        text-align: left;\n",
       "    }\n",
       "\n",
       "    .dataframe tbody tr th {\n",
       "        vertical-align: top;\n",
       "    }\n",
       "</style>\n",
       "<table border=\"1\" class=\"dataframe\">\n",
       "  <thead>\n",
       "    <tr style=\"text-align: right;\">\n",
       "      <th></th>\n",
       "      <th>YEAR</th>\n",
       "      <th>MONTH</th>\n",
       "      <th>DAY</th>\n",
       "      <th>DAY_OF_WEEK</th>\n",
       "      <th>AIRLINE</th>\n",
       "      <th>FLIGHT_NUMBER</th>\n",
       "      <th>TAIL_NUMBER</th>\n",
       "      <th>ORIGIN_AIRPORT</th>\n",
       "      <th>DESTINATION_AIRPORT</th>\n",
       "      <th>SCHEDULED_DEPARTURE</th>\n",
       "      <th>...</th>\n",
       "      <th>ARRIVAL_TIME</th>\n",
       "      <th>ARRIVAL_DELAY</th>\n",
       "      <th>DIVERTED</th>\n",
       "      <th>CANCELLED</th>\n",
       "      <th>CANCELLATION_REASON</th>\n",
       "      <th>AIR_SYSTEM_DELAY</th>\n",
       "      <th>SECURITY_DELAY</th>\n",
       "      <th>AIRLINE_DELAY</th>\n",
       "      <th>LATE_AIRCRAFT_DELAY</th>\n",
       "      <th>WEATHER_DELAY</th>\n",
       "    </tr>\n",
       "  </thead>\n",
       "  <tbody>\n",
       "    <tr>\n",
       "      <th>0</th>\n",
       "      <td>2015</td>\n",
       "      <td>1</td>\n",
       "      <td>1</td>\n",
       "      <td>4</td>\n",
       "      <td>AS</td>\n",
       "      <td>98</td>\n",
       "      <td>N407AS</td>\n",
       "      <td>ANC</td>\n",
       "      <td>SEA</td>\n",
       "      <td>5</td>\n",
       "      <td>...</td>\n",
       "      <td>408.0</td>\n",
       "      <td>-22.0</td>\n",
       "      <td>0</td>\n",
       "      <td>0</td>\n",
       "      <td>NaN</td>\n",
       "      <td>NaN</td>\n",
       "      <td>NaN</td>\n",
       "      <td>NaN</td>\n",
       "      <td>NaN</td>\n",
       "      <td>NaN</td>\n",
       "    </tr>\n",
       "    <tr>\n",
       "      <th>1</th>\n",
       "      <td>2015</td>\n",
       "      <td>1</td>\n",
       "      <td>1</td>\n",
       "      <td>4</td>\n",
       "      <td>AA</td>\n",
       "      <td>2336</td>\n",
       "      <td>N3KUAA</td>\n",
       "      <td>LAX</td>\n",
       "      <td>PBI</td>\n",
       "      <td>10</td>\n",
       "      <td>...</td>\n",
       "      <td>741.0</td>\n",
       "      <td>-9.0</td>\n",
       "      <td>0</td>\n",
       "      <td>0</td>\n",
       "      <td>NaN</td>\n",
       "      <td>NaN</td>\n",
       "      <td>NaN</td>\n",
       "      <td>NaN</td>\n",
       "      <td>NaN</td>\n",
       "      <td>NaN</td>\n",
       "    </tr>\n",
       "    <tr>\n",
       "      <th>2</th>\n",
       "      <td>2015</td>\n",
       "      <td>1</td>\n",
       "      <td>1</td>\n",
       "      <td>4</td>\n",
       "      <td>US</td>\n",
       "      <td>840</td>\n",
       "      <td>N171US</td>\n",
       "      <td>SFO</td>\n",
       "      <td>CLT</td>\n",
       "      <td>20</td>\n",
       "      <td>...</td>\n",
       "      <td>811.0</td>\n",
       "      <td>5.0</td>\n",
       "      <td>0</td>\n",
       "      <td>0</td>\n",
       "      <td>NaN</td>\n",
       "      <td>NaN</td>\n",
       "      <td>NaN</td>\n",
       "      <td>NaN</td>\n",
       "      <td>NaN</td>\n",
       "      <td>NaN</td>\n",
       "    </tr>\n",
       "    <tr>\n",
       "      <th>3</th>\n",
       "      <td>2015</td>\n",
       "      <td>1</td>\n",
       "      <td>1</td>\n",
       "      <td>4</td>\n",
       "      <td>AA</td>\n",
       "      <td>258</td>\n",
       "      <td>N3HYAA</td>\n",
       "      <td>LAX</td>\n",
       "      <td>MIA</td>\n",
       "      <td>20</td>\n",
       "      <td>...</td>\n",
       "      <td>756.0</td>\n",
       "      <td>-9.0</td>\n",
       "      <td>0</td>\n",
       "      <td>0</td>\n",
       "      <td>NaN</td>\n",
       "      <td>NaN</td>\n",
       "      <td>NaN</td>\n",
       "      <td>NaN</td>\n",
       "      <td>NaN</td>\n",
       "      <td>NaN</td>\n",
       "    </tr>\n",
       "    <tr>\n",
       "      <th>4</th>\n",
       "      <td>2015</td>\n",
       "      <td>1</td>\n",
       "      <td>1</td>\n",
       "      <td>4</td>\n",
       "      <td>AS</td>\n",
       "      <td>135</td>\n",
       "      <td>N527AS</td>\n",
       "      <td>SEA</td>\n",
       "      <td>ANC</td>\n",
       "      <td>25</td>\n",
       "      <td>...</td>\n",
       "      <td>259.0</td>\n",
       "      <td>-21.0</td>\n",
       "      <td>0</td>\n",
       "      <td>0</td>\n",
       "      <td>NaN</td>\n",
       "      <td>NaN</td>\n",
       "      <td>NaN</td>\n",
       "      <td>NaN</td>\n",
       "      <td>NaN</td>\n",
       "      <td>NaN</td>\n",
       "    </tr>\n",
       "  </tbody>\n",
       "</table>\n",
       "<p>5 rows × 31 columns</p>\n",
       "</div>"
      ],
      "text/plain": [
       "   YEAR  MONTH  DAY  DAY_OF_WEEK AIRLINE  FLIGHT_NUMBER TAIL_NUMBER  \\\n",
       "0  2015      1    1            4      AS             98      N407AS   \n",
       "1  2015      1    1            4      AA           2336      N3KUAA   \n",
       "2  2015      1    1            4      US            840      N171US   \n",
       "3  2015      1    1            4      AA            258      N3HYAA   \n",
       "4  2015      1    1            4      AS            135      N527AS   \n",
       "\n",
       "  ORIGIN_AIRPORT DESTINATION_AIRPORT  SCHEDULED_DEPARTURE      ...        \\\n",
       "0            ANC                 SEA                    5      ...         \n",
       "1            LAX                 PBI                   10      ...         \n",
       "2            SFO                 CLT                   20      ...         \n",
       "3            LAX                 MIA                   20      ...         \n",
       "4            SEA                 ANC                   25      ...         \n",
       "\n",
       "   ARRIVAL_TIME  ARRIVAL_DELAY  DIVERTED  CANCELLED  CANCELLATION_REASON  \\\n",
       "0         408.0          -22.0         0          0                  NaN   \n",
       "1         741.0           -9.0         0          0                  NaN   \n",
       "2         811.0            5.0         0          0                  NaN   \n",
       "3         756.0           -9.0         0          0                  NaN   \n",
       "4         259.0          -21.0         0          0                  NaN   \n",
       "\n",
       "   AIR_SYSTEM_DELAY  SECURITY_DELAY  AIRLINE_DELAY  LATE_AIRCRAFT_DELAY  \\\n",
       "0               NaN             NaN            NaN                  NaN   \n",
       "1               NaN             NaN            NaN                  NaN   \n",
       "2               NaN             NaN            NaN                  NaN   \n",
       "3               NaN             NaN            NaN                  NaN   \n",
       "4               NaN             NaN            NaN                  NaN   \n",
       "\n",
       "   WEATHER_DELAY  \n",
       "0            NaN  \n",
       "1            NaN  \n",
       "2            NaN  \n",
       "3            NaN  \n",
       "4            NaN  \n",
       "\n",
       "[5 rows x 31 columns]"
      ]
     },
     "execution_count": 3,
     "metadata": {},
     "output_type": "execute_result"
    }
   ],
   "source": [
    "flights.head()"
   ]
  },
  {
   "cell_type": "code",
   "execution_count": 4,
   "metadata": {},
   "outputs": [
    {
     "data": {
      "text/plain": [
       "(5819079, 31)"
      ]
     },
     "execution_count": 4,
     "metadata": {},
     "output_type": "execute_result"
    }
   ],
   "source": [
    "flights.shape"
   ]
  },
  {
   "cell_type": "code",
   "execution_count": 5,
   "metadata": {},
   "outputs": [
    {
     "data": {
      "text/html": [
       "<div>\n",
       "<style>\n",
       "    .dataframe thead tr:only-child th {\n",
       "        text-align: right;\n",
       "    }\n",
       "\n",
       "    .dataframe thead th {\n",
       "        text-align: left;\n",
       "    }\n",
       "\n",
       "    .dataframe tbody tr th {\n",
       "        vertical-align: top;\n",
       "    }\n",
       "</style>\n",
       "<table border=\"1\" class=\"dataframe\">\n",
       "  <thead>\n",
       "    <tr style=\"text-align: right;\">\n",
       "      <th></th>\n",
       "      <th>IATA_CODE</th>\n",
       "      <th>AIRLINE</th>\n",
       "    </tr>\n",
       "  </thead>\n",
       "  <tbody>\n",
       "    <tr>\n",
       "      <th>0</th>\n",
       "      <td>UA</td>\n",
       "      <td>United Air Lines Inc.</td>\n",
       "    </tr>\n",
       "    <tr>\n",
       "      <th>1</th>\n",
       "      <td>AA</td>\n",
       "      <td>American Airlines Inc.</td>\n",
       "    </tr>\n",
       "    <tr>\n",
       "      <th>2</th>\n",
       "      <td>US</td>\n",
       "      <td>US Airways Inc.</td>\n",
       "    </tr>\n",
       "    <tr>\n",
       "      <th>3</th>\n",
       "      <td>F9</td>\n",
       "      <td>Frontier Airlines Inc.</td>\n",
       "    </tr>\n",
       "    <tr>\n",
       "      <th>4</th>\n",
       "      <td>B6</td>\n",
       "      <td>JetBlue Airways</td>\n",
       "    </tr>\n",
       "    <tr>\n",
       "      <th>5</th>\n",
       "      <td>OO</td>\n",
       "      <td>Skywest Airlines Inc.</td>\n",
       "    </tr>\n",
       "    <tr>\n",
       "      <th>6</th>\n",
       "      <td>AS</td>\n",
       "      <td>Alaska Airlines Inc.</td>\n",
       "    </tr>\n",
       "    <tr>\n",
       "      <th>7</th>\n",
       "      <td>NK</td>\n",
       "      <td>Spirit Air Lines</td>\n",
       "    </tr>\n",
       "    <tr>\n",
       "      <th>8</th>\n",
       "      <td>WN</td>\n",
       "      <td>Southwest Airlines Co.</td>\n",
       "    </tr>\n",
       "    <tr>\n",
       "      <th>9</th>\n",
       "      <td>DL</td>\n",
       "      <td>Delta Air Lines Inc.</td>\n",
       "    </tr>\n",
       "    <tr>\n",
       "      <th>10</th>\n",
       "      <td>EV</td>\n",
       "      <td>Atlantic Southeast Airlines</td>\n",
       "    </tr>\n",
       "    <tr>\n",
       "      <th>11</th>\n",
       "      <td>HA</td>\n",
       "      <td>Hawaiian Airlines Inc.</td>\n",
       "    </tr>\n",
       "    <tr>\n",
       "      <th>12</th>\n",
       "      <td>MQ</td>\n",
       "      <td>American Eagle Airlines Inc.</td>\n",
       "    </tr>\n",
       "    <tr>\n",
       "      <th>13</th>\n",
       "      <td>VX</td>\n",
       "      <td>Virgin America</td>\n",
       "    </tr>\n",
       "  </tbody>\n",
       "</table>\n",
       "</div>"
      ],
      "text/plain": [
       "   IATA_CODE                       AIRLINE\n",
       "0         UA         United Air Lines Inc.\n",
       "1         AA        American Airlines Inc.\n",
       "2         US               US Airways Inc.\n",
       "3         F9        Frontier Airlines Inc.\n",
       "4         B6               JetBlue Airways\n",
       "5         OO         Skywest Airlines Inc.\n",
       "6         AS          Alaska Airlines Inc.\n",
       "7         NK              Spirit Air Lines\n",
       "8         WN        Southwest Airlines Co.\n",
       "9         DL          Delta Air Lines Inc.\n",
       "10        EV   Atlantic Southeast Airlines\n",
       "11        HA        Hawaiian Airlines Inc.\n",
       "12        MQ  American Eagle Airlines Inc.\n",
       "13        VX                Virgin America"
      ]
     },
     "execution_count": 5,
     "metadata": {},
     "output_type": "execute_result"
    }
   ],
   "source": [
    "airlines"
   ]
  },
  {
   "cell_type": "code",
   "execution_count": 6,
   "metadata": {},
   "outputs": [
    {
     "data": {
      "text/plain": [
       "(14, 2)"
      ]
     },
     "execution_count": 6,
     "metadata": {},
     "output_type": "execute_result"
    }
   ],
   "source": [
    "airlines.shape"
   ]
  },
  {
   "cell_type": "code",
   "execution_count": 7,
   "metadata": {},
   "outputs": [
    {
     "data": {
      "text/html": [
       "<div>\n",
       "<style>\n",
       "    .dataframe thead tr:only-child th {\n",
       "        text-align: right;\n",
       "    }\n",
       "\n",
       "    .dataframe thead th {\n",
       "        text-align: left;\n",
       "    }\n",
       "\n",
       "    .dataframe tbody tr th {\n",
       "        vertical-align: top;\n",
       "    }\n",
       "</style>\n",
       "<table border=\"1\" class=\"dataframe\">\n",
       "  <thead>\n",
       "    <tr style=\"text-align: right;\">\n",
       "      <th></th>\n",
       "      <th>IATA_CODE</th>\n",
       "      <th>AIRPORT</th>\n",
       "      <th>CITY</th>\n",
       "      <th>STATE</th>\n",
       "      <th>COUNTRY</th>\n",
       "      <th>LATITUDE</th>\n",
       "      <th>LONGITUDE</th>\n",
       "    </tr>\n",
       "  </thead>\n",
       "  <tbody>\n",
       "    <tr>\n",
       "      <th>0</th>\n",
       "      <td>ABE</td>\n",
       "      <td>Lehigh Valley International Airport</td>\n",
       "      <td>Allentown</td>\n",
       "      <td>PA</td>\n",
       "      <td>USA</td>\n",
       "      <td>40.65236</td>\n",
       "      <td>-75.44040</td>\n",
       "    </tr>\n",
       "    <tr>\n",
       "      <th>1</th>\n",
       "      <td>ABI</td>\n",
       "      <td>Abilene Regional Airport</td>\n",
       "      <td>Abilene</td>\n",
       "      <td>TX</td>\n",
       "      <td>USA</td>\n",
       "      <td>32.41132</td>\n",
       "      <td>-99.68190</td>\n",
       "    </tr>\n",
       "    <tr>\n",
       "      <th>2</th>\n",
       "      <td>ABQ</td>\n",
       "      <td>Albuquerque International Sunport</td>\n",
       "      <td>Albuquerque</td>\n",
       "      <td>NM</td>\n",
       "      <td>USA</td>\n",
       "      <td>35.04022</td>\n",
       "      <td>-106.60919</td>\n",
       "    </tr>\n",
       "    <tr>\n",
       "      <th>3</th>\n",
       "      <td>ABR</td>\n",
       "      <td>Aberdeen Regional Airport</td>\n",
       "      <td>Aberdeen</td>\n",
       "      <td>SD</td>\n",
       "      <td>USA</td>\n",
       "      <td>45.44906</td>\n",
       "      <td>-98.42183</td>\n",
       "    </tr>\n",
       "    <tr>\n",
       "      <th>4</th>\n",
       "      <td>ABY</td>\n",
       "      <td>Southwest Georgia Regional Airport</td>\n",
       "      <td>Albany</td>\n",
       "      <td>GA</td>\n",
       "      <td>USA</td>\n",
       "      <td>31.53552</td>\n",
       "      <td>-84.19447</td>\n",
       "    </tr>\n",
       "  </tbody>\n",
       "</table>\n",
       "</div>"
      ],
      "text/plain": [
       "  IATA_CODE                              AIRPORT         CITY STATE COUNTRY  \\\n",
       "0       ABE  Lehigh Valley International Airport    Allentown    PA     USA   \n",
       "1       ABI             Abilene Regional Airport      Abilene    TX     USA   \n",
       "2       ABQ    Albuquerque International Sunport  Albuquerque    NM     USA   \n",
       "3       ABR            Aberdeen Regional Airport     Aberdeen    SD     USA   \n",
       "4       ABY   Southwest Georgia Regional Airport       Albany    GA     USA   \n",
       "\n",
       "   LATITUDE  LONGITUDE  \n",
       "0  40.65236  -75.44040  \n",
       "1  32.41132  -99.68190  \n",
       "2  35.04022 -106.60919  \n",
       "3  45.44906  -98.42183  \n",
       "4  31.53552  -84.19447  "
      ]
     },
     "execution_count": 7,
     "metadata": {},
     "output_type": "execute_result"
    }
   ],
   "source": [
    "airports.head()"
   ]
  },
  {
   "cell_type": "code",
   "execution_count": 8,
   "metadata": {},
   "outputs": [
    {
     "data": {
      "text/plain": [
       "(322, 7)"
      ]
     },
     "execution_count": 8,
     "metadata": {},
     "output_type": "execute_result"
    }
   ],
   "source": [
    "airports.shape"
   ]
  },
  {
   "cell_type": "code",
   "execution_count": 9,
   "metadata": {},
   "outputs": [
    {
     "data": {
      "text/plain": [
       "['YEAR',\n",
       " 'MONTH',\n",
       " 'DAY',\n",
       " 'DAY_OF_WEEK',\n",
       " 'AIRLINE',\n",
       " 'FLIGHT_NUMBER',\n",
       " 'TAIL_NUMBER',\n",
       " 'ORIGIN_AIRPORT',\n",
       " 'DESTINATION_AIRPORT',\n",
       " 'SCHEDULED_DEPARTURE',\n",
       " 'DEPARTURE_TIME',\n",
       " 'DEPARTURE_DELAY',\n",
       " 'TAXI_OUT',\n",
       " 'WHEELS_OFF',\n",
       " 'SCHEDULED_TIME',\n",
       " 'ELAPSED_TIME',\n",
       " 'AIR_TIME',\n",
       " 'DISTANCE',\n",
       " 'WHEELS_ON',\n",
       " 'TAXI_IN',\n",
       " 'SCHEDULED_ARRIVAL',\n",
       " 'ARRIVAL_TIME',\n",
       " 'ARRIVAL_DELAY',\n",
       " 'DIVERTED',\n",
       " 'CANCELLED',\n",
       " 'CANCELLATION_REASON',\n",
       " 'AIR_SYSTEM_DELAY',\n",
       " 'SECURITY_DELAY',\n",
       " 'AIRLINE_DELAY',\n",
       " 'LATE_AIRCRAFT_DELAY',\n",
       " 'WEATHER_DELAY']"
      ]
     },
     "execution_count": 9,
     "metadata": {},
     "output_type": "execute_result"
    }
   ],
   "source": [
    "list(flights.columns)"
   ]
  },
  {
   "cell_type": "markdown",
   "metadata": {},
   "source": [
    "## Data Preprocessing"
   ]
  },
  {
   "cell_type": "code",
   "execution_count": 10,
   "metadata": {},
   "outputs": [
    {
     "data": {
      "text/plain": [
       "(5819079, 13)"
      ]
     },
     "execution_count": 10,
     "metadata": {},
     "output_type": "execute_result"
    }
   ],
   "source": [
    "# removing unnecessary columns\n",
    "dropColumns = ['FLIGHT_NUMBER', 'TAIL_NUMBER', 'TAXI_OUT', 'WHEELS_OFF', 'AIR_TIME', 'WHEELS_ON',\\\n",
    "              'TAXI_IN', 'AIR_SYSTEM_DELAY', 'SECURITY_DELAY', 'AIRLINE_DELAY', 'LATE_AIRCRAFT_DELAY', \\\n",
    "               'WEATHER_DELAY', 'DIVERTED', 'CANCELLED', 'CANCELLATION_REASON','ELAPSED_TIME',\\\n",
    "               'ARRIVAL_TIME','ARRIVAL_DELAY']\n",
    "flights = flights.drop(dropColumns, axis = 1)\n",
    "flights.shape"
   ]
  },
  {
   "cell_type": "code",
   "execution_count": 11,
   "metadata": {
    "scrolled": true
   },
   "outputs": [
    {
     "data": {
      "text/plain": [
       "YEAR                       0\n",
       "MONTH                      0\n",
       "DAY                        0\n",
       "DAY_OF_WEEK                0\n",
       "AIRLINE                    0\n",
       "ORIGIN_AIRPORT             0\n",
       "DESTINATION_AIRPORT        0\n",
       "SCHEDULED_DEPARTURE        0\n",
       "DEPARTURE_TIME         86153\n",
       "DEPARTURE_DELAY        86153\n",
       "SCHEDULED_TIME             6\n",
       "DISTANCE                   0\n",
       "SCHEDULED_ARRIVAL          0\n",
       "dtype: int64"
      ]
     },
     "execution_count": 11,
     "metadata": {},
     "output_type": "execute_result"
    }
   ],
   "source": [
    "# checking for null values\n",
    "flights.isnull().sum()"
   ]
  },
  {
   "cell_type": "code",
   "execution_count": 12,
   "metadata": {
    "collapsed": true
   },
   "outputs": [],
   "source": [
    "# removing rows that contain null values for 'departure time', departure delay' and 'scheduled time'\n",
    "flights = flights.dropna(subset=['DEPARTURE_TIME', 'DEPARTURE_DELAY','SCHEDULED_TIME'])"
   ]
  },
  {
   "cell_type": "code",
   "execution_count": 13,
   "metadata": {},
   "outputs": [
    {
     "data": {
      "text/plain": [
       "YEAR                   0\n",
       "MONTH                  0\n",
       "DAY                    0\n",
       "DAY_OF_WEEK            0\n",
       "AIRLINE                0\n",
       "ORIGIN_AIRPORT         0\n",
       "DESTINATION_AIRPORT    0\n",
       "SCHEDULED_DEPARTURE    0\n",
       "DEPARTURE_TIME         0\n",
       "DEPARTURE_DELAY        0\n",
       "SCHEDULED_TIME         0\n",
       "DISTANCE               0\n",
       "SCHEDULED_ARRIVAL      0\n",
       "dtype: int64"
      ]
     },
     "execution_count": 13,
     "metadata": {},
     "output_type": "execute_result"
    }
   ],
   "source": [
    "flights.isnull().sum()"
   ]
  },
  {
   "cell_type": "code",
   "execution_count": 14,
   "metadata": {},
   "outputs": [
    {
     "data": {
      "text/html": [
       "<div>\n",
       "<style>\n",
       "    .dataframe thead tr:only-child th {\n",
       "        text-align: right;\n",
       "    }\n",
       "\n",
       "    .dataframe thead th {\n",
       "        text-align: left;\n",
       "    }\n",
       "\n",
       "    .dataframe tbody tr th {\n",
       "        vertical-align: top;\n",
       "    }\n",
       "</style>\n",
       "<table border=\"1\" class=\"dataframe\">\n",
       "  <thead>\n",
       "    <tr style=\"text-align: right;\">\n",
       "      <th></th>\n",
       "      <th>SCHEDULED_DEPARTURE</th>\n",
       "      <th>DEPARTURE_TIME</th>\n",
       "      <th>DEPARTURE_DELAY</th>\n",
       "    </tr>\n",
       "  </thead>\n",
       "  <tbody>\n",
       "    <tr>\n",
       "      <th>0</th>\n",
       "      <td>5</td>\n",
       "      <td>2354.0</td>\n",
       "      <td>-11.0</td>\n",
       "    </tr>\n",
       "    <tr>\n",
       "      <th>1</th>\n",
       "      <td>10</td>\n",
       "      <td>2.0</td>\n",
       "      <td>-8.0</td>\n",
       "    </tr>\n",
       "    <tr>\n",
       "      <th>2</th>\n",
       "      <td>20</td>\n",
       "      <td>18.0</td>\n",
       "      <td>-2.0</td>\n",
       "    </tr>\n",
       "    <tr>\n",
       "      <th>3</th>\n",
       "      <td>20</td>\n",
       "      <td>15.0</td>\n",
       "      <td>-5.0</td>\n",
       "    </tr>\n",
       "    <tr>\n",
       "      <th>4</th>\n",
       "      <td>25</td>\n",
       "      <td>24.0</td>\n",
       "      <td>-1.0</td>\n",
       "    </tr>\n",
       "  </tbody>\n",
       "</table>\n",
       "</div>"
      ],
      "text/plain": [
       "   SCHEDULED_DEPARTURE  DEPARTURE_TIME  DEPARTURE_DELAY\n",
       "0                    5          2354.0            -11.0\n",
       "1                   10             2.0             -8.0\n",
       "2                   20            18.0             -2.0\n",
       "3                   20            15.0             -5.0\n",
       "4                   25            24.0             -1.0"
      ]
     },
     "execution_count": 14,
     "metadata": {},
     "output_type": "execute_result"
    }
   ],
   "source": [
    "flights[['SCHEDULED_DEPARTURE','DEPARTURE_TIME','DEPARTURE_DELAY']].head()"
   ]
  },
  {
   "cell_type": "code",
   "execution_count": 15,
   "metadata": {},
   "outputs": [
    {
     "data": {
      "text/plain": [
       "YEAR                     int64\n",
       "MONTH                    int64\n",
       "DAY                      int64\n",
       "DAY_OF_WEEK              int64\n",
       "AIRLINE                 object\n",
       "ORIGIN_AIRPORT          object\n",
       "DESTINATION_AIRPORT     object\n",
       "SCHEDULED_DEPARTURE      int64\n",
       "DEPARTURE_TIME         float64\n",
       "DEPARTURE_DELAY        float64\n",
       "SCHEDULED_TIME         float64\n",
       "DISTANCE                 int64\n",
       "SCHEDULED_ARRIVAL        int64\n",
       "dtype: object"
      ]
     },
     "execution_count": 15,
     "metadata": {},
     "output_type": "execute_result"
    }
   ],
   "source": [
    "flights.dtypes"
   ]
  },
  {
   "cell_type": "code",
   "execution_count": 16,
   "metadata": {
    "collapsed": true
   },
   "outputs": [],
   "source": [
    "# converting the datatype of departure time to int\n",
    "flights['DEPARTURE_TIME'] = flights['DEPARTURE_TIME'].astype(int)"
   ]
  },
  {
   "cell_type": "code",
   "execution_count": 17,
   "metadata": {},
   "outputs": [
    {
     "data": {
      "text/plain": [
       "0    2354\n",
       "1       2\n",
       "2      18\n",
       "3      15\n",
       "4      24\n",
       "Name: DEPARTURE_TIME, dtype: int64"
      ]
     },
     "execution_count": 17,
     "metadata": {},
     "output_type": "execute_result"
    }
   ],
   "source": [
    "flights['DEPARTURE_TIME'].head()"
   ]
  },
  {
   "cell_type": "code",
   "execution_count": 18,
   "metadata": {
    "collapsed": true
   },
   "outputs": [],
   "source": [
    "def changeTimeFormat(value):\n",
    "    \"\"\"\n",
    "    This function changes the format of columns that represent time\n",
    "    After this function is applied on respective columns, the time is \n",
    "    represented as hour blocks. Ex. 12:20 is represented as '1' indicating\n",
    "    it is the first hour of the day. Similarly, 18:30 is represented as '19'\n",
    "    indicating the 19th hour of the day.\n",
    "    \"\"\"\n",
    "    timeAsString = str(value)\n",
    "    if (len(timeAsString) == 1) or (len(timeAsString) == 2):\n",
    "        return 1\n",
    "    if len(timeAsString) == 3:\n",
    "        return int(timeAsString[0])+1\n",
    "    if len(timeAsString) == 4:\n",
    "        return int(timeAsString[0:2])+1"
   ]
  },
  {
   "cell_type": "code",
   "execution_count": 19,
   "metadata": {
    "collapsed": true
   },
   "outputs": [],
   "source": [
    "# changing time format to hour blocks\n",
    "flights['SCHEDULED_DEPARTURE'] = flights['SCHEDULED_DEPARTURE'].apply(changeTimeFormat)\n",
    "flights['DEPARTURE_TIME'] = flights['DEPARTURE_TIME'].apply(changeTimeFormat)\n",
    "flights['SCHEDULED_ARRIVAL'] = flights['SCHEDULED_ARRIVAL'].apply(changeTimeFormat)"
   ]
  },
  {
   "cell_type": "code",
   "execution_count": 20,
   "metadata": {},
   "outputs": [
    {
     "data": {
      "text/html": [
       "<div>\n",
       "<style>\n",
       "    .dataframe thead tr:only-child th {\n",
       "        text-align: right;\n",
       "    }\n",
       "\n",
       "    .dataframe thead th {\n",
       "        text-align: left;\n",
       "    }\n",
       "\n",
       "    .dataframe tbody tr th {\n",
       "        vertical-align: top;\n",
       "    }\n",
       "</style>\n",
       "<table border=\"1\" class=\"dataframe\">\n",
       "  <thead>\n",
       "    <tr style=\"text-align: right;\">\n",
       "      <th></th>\n",
       "      <th>SCHEDULED_DEPARTURE</th>\n",
       "      <th>DEPARTURE_TIME</th>\n",
       "      <th>SCHEDULED_ARRIVAL</th>\n",
       "    </tr>\n",
       "  </thead>\n",
       "  <tbody>\n",
       "    <tr>\n",
       "      <th>0</th>\n",
       "      <td>1</td>\n",
       "      <td>24</td>\n",
       "      <td>5</td>\n",
       "    </tr>\n",
       "    <tr>\n",
       "      <th>1</th>\n",
       "      <td>1</td>\n",
       "      <td>1</td>\n",
       "      <td>8</td>\n",
       "    </tr>\n",
       "    <tr>\n",
       "      <th>2</th>\n",
       "      <td>1</td>\n",
       "      <td>1</td>\n",
       "      <td>9</td>\n",
       "    </tr>\n",
       "    <tr>\n",
       "      <th>3</th>\n",
       "      <td>1</td>\n",
       "      <td>1</td>\n",
       "      <td>9</td>\n",
       "    </tr>\n",
       "    <tr>\n",
       "      <th>4</th>\n",
       "      <td>1</td>\n",
       "      <td>1</td>\n",
       "      <td>4</td>\n",
       "    </tr>\n",
       "  </tbody>\n",
       "</table>\n",
       "</div>"
      ],
      "text/plain": [
       "   SCHEDULED_DEPARTURE  DEPARTURE_TIME  SCHEDULED_ARRIVAL\n",
       "0                    1              24                  5\n",
       "1                    1               1                  8\n",
       "2                    1               1                  9\n",
       "3                    1               1                  9\n",
       "4                    1               1                  4"
      ]
     },
     "execution_count": 20,
     "metadata": {},
     "output_type": "execute_result"
    }
   ],
   "source": [
    "flights[['SCHEDULED_DEPARTURE','DEPARTURE_TIME','SCHEDULED_ARRIVAL']].head()"
   ]
  },
  {
   "cell_type": "code",
   "execution_count": 21,
   "metadata": {
    "collapsed": true
   },
   "outputs": [],
   "source": [
    "\"\"\"\n",
    "Adding the class labels to data. To be realistic, only the flights\n",
    "that are more than 5 minutes late are considered to be delayed. The\n",
    "'DEPARTURE_DELAY' column that represents the flight delay in minutes\n",
    "is used to assign class labels.\n",
    "\"\"\"\n",
    "flights['STATUS'] = np.where(flights['DEPARTURE_DELAY'] > 5, 'delayed', 'on time')"
   ]
  },
  {
   "cell_type": "code",
   "execution_count": 22,
   "metadata": {},
   "outputs": [
    {
     "data": {
      "text/html": [
       "<div>\n",
       "<style>\n",
       "    .dataframe thead tr:only-child th {\n",
       "        text-align: right;\n",
       "    }\n",
       "\n",
       "    .dataframe thead th {\n",
       "        text-align: left;\n",
       "    }\n",
       "\n",
       "    .dataframe tbody tr th {\n",
       "        vertical-align: top;\n",
       "    }\n",
       "</style>\n",
       "<table border=\"1\" class=\"dataframe\">\n",
       "  <thead>\n",
       "    <tr style=\"text-align: right;\">\n",
       "      <th></th>\n",
       "      <th>YEAR</th>\n",
       "      <th>MONTH</th>\n",
       "      <th>DAY</th>\n",
       "      <th>DAY_OF_WEEK</th>\n",
       "      <th>AIRLINE</th>\n",
       "      <th>ORIGIN_AIRPORT</th>\n",
       "      <th>DESTINATION_AIRPORT</th>\n",
       "      <th>SCHEDULED_DEPARTURE</th>\n",
       "      <th>DEPARTURE_TIME</th>\n",
       "      <th>DEPARTURE_DELAY</th>\n",
       "      <th>SCHEDULED_TIME</th>\n",
       "      <th>DISTANCE</th>\n",
       "      <th>SCHEDULED_ARRIVAL</th>\n",
       "      <th>STATUS</th>\n",
       "    </tr>\n",
       "  </thead>\n",
       "  <tbody>\n",
       "    <tr>\n",
       "      <th>0</th>\n",
       "      <td>2015</td>\n",
       "      <td>1</td>\n",
       "      <td>1</td>\n",
       "      <td>4</td>\n",
       "      <td>AS</td>\n",
       "      <td>ANC</td>\n",
       "      <td>SEA</td>\n",
       "      <td>1</td>\n",
       "      <td>24</td>\n",
       "      <td>-11.0</td>\n",
       "      <td>205.0</td>\n",
       "      <td>1448</td>\n",
       "      <td>5</td>\n",
       "      <td>on time</td>\n",
       "    </tr>\n",
       "    <tr>\n",
       "      <th>1</th>\n",
       "      <td>2015</td>\n",
       "      <td>1</td>\n",
       "      <td>1</td>\n",
       "      <td>4</td>\n",
       "      <td>AA</td>\n",
       "      <td>LAX</td>\n",
       "      <td>PBI</td>\n",
       "      <td>1</td>\n",
       "      <td>1</td>\n",
       "      <td>-8.0</td>\n",
       "      <td>280.0</td>\n",
       "      <td>2330</td>\n",
       "      <td>8</td>\n",
       "      <td>on time</td>\n",
       "    </tr>\n",
       "    <tr>\n",
       "      <th>2</th>\n",
       "      <td>2015</td>\n",
       "      <td>1</td>\n",
       "      <td>1</td>\n",
       "      <td>4</td>\n",
       "      <td>US</td>\n",
       "      <td>SFO</td>\n",
       "      <td>CLT</td>\n",
       "      <td>1</td>\n",
       "      <td>1</td>\n",
       "      <td>-2.0</td>\n",
       "      <td>286.0</td>\n",
       "      <td>2296</td>\n",
       "      <td>9</td>\n",
       "      <td>on time</td>\n",
       "    </tr>\n",
       "    <tr>\n",
       "      <th>3</th>\n",
       "      <td>2015</td>\n",
       "      <td>1</td>\n",
       "      <td>1</td>\n",
       "      <td>4</td>\n",
       "      <td>AA</td>\n",
       "      <td>LAX</td>\n",
       "      <td>MIA</td>\n",
       "      <td>1</td>\n",
       "      <td>1</td>\n",
       "      <td>-5.0</td>\n",
       "      <td>285.0</td>\n",
       "      <td>2342</td>\n",
       "      <td>9</td>\n",
       "      <td>on time</td>\n",
       "    </tr>\n",
       "    <tr>\n",
       "      <th>4</th>\n",
       "      <td>2015</td>\n",
       "      <td>1</td>\n",
       "      <td>1</td>\n",
       "      <td>4</td>\n",
       "      <td>AS</td>\n",
       "      <td>SEA</td>\n",
       "      <td>ANC</td>\n",
       "      <td>1</td>\n",
       "      <td>1</td>\n",
       "      <td>-1.0</td>\n",
       "      <td>235.0</td>\n",
       "      <td>1448</td>\n",
       "      <td>4</td>\n",
       "      <td>on time</td>\n",
       "    </tr>\n",
       "  </tbody>\n",
       "</table>\n",
       "</div>"
      ],
      "text/plain": [
       "   YEAR  MONTH  DAY  DAY_OF_WEEK AIRLINE ORIGIN_AIRPORT DESTINATION_AIRPORT  \\\n",
       "0  2015      1    1            4      AS            ANC                 SEA   \n",
       "1  2015      1    1            4      AA            LAX                 PBI   \n",
       "2  2015      1    1            4      US            SFO                 CLT   \n",
       "3  2015      1    1            4      AA            LAX                 MIA   \n",
       "4  2015      1    1            4      AS            SEA                 ANC   \n",
       "\n",
       "   SCHEDULED_DEPARTURE  DEPARTURE_TIME  DEPARTURE_DELAY  SCHEDULED_TIME  \\\n",
       "0                    1              24            -11.0           205.0   \n",
       "1                    1               1             -8.0           280.0   \n",
       "2                    1               1             -2.0           286.0   \n",
       "3                    1               1             -5.0           285.0   \n",
       "4                    1               1             -1.0           235.0   \n",
       "\n",
       "   DISTANCE  SCHEDULED_ARRIVAL   STATUS  \n",
       "0      1448                  5  on time  \n",
       "1      2330                  8  on time  \n",
       "2      2296                  9  on time  \n",
       "3      2342                  9  on time  \n",
       "4      1448                  4  on time  "
      ]
     },
     "execution_count": 22,
     "metadata": {},
     "output_type": "execute_result"
    }
   ],
   "source": [
    "flights.head()"
   ]
  },
  {
   "cell_type": "markdown",
   "metadata": {},
   "source": [
    "## Exploratory Visualization"
   ]
  },
  {
   "cell_type": "code",
   "execution_count": 23,
   "metadata": {},
   "outputs": [
    {
     "data": {
      "text/html": [
       "<div>\n",
       "<style>\n",
       "    .dataframe thead tr:only-child th {\n",
       "        text-align: right;\n",
       "    }\n",
       "\n",
       "    .dataframe thead th {\n",
       "        text-align: left;\n",
       "    }\n",
       "\n",
       "    .dataframe tbody tr th {\n",
       "        vertical-align: top;\n",
       "    }\n",
       "</style>\n",
       "<table border=\"1\" class=\"dataframe\">\n",
       "  <thead>\n",
       "    <tr style=\"text-align: right;\">\n",
       "      <th></th>\n",
       "      <th>STATUS</th>\n",
       "      <th>COUNT</th>\n",
       "    </tr>\n",
       "  </thead>\n",
       "  <tbody>\n",
       "    <tr>\n",
       "      <th>0</th>\n",
       "      <td>delayed</td>\n",
       "      <td>1561855</td>\n",
       "    </tr>\n",
       "    <tr>\n",
       "      <th>1</th>\n",
       "      <td>on time</td>\n",
       "      <td>4171065</td>\n",
       "    </tr>\n",
       "  </tbody>\n",
       "</table>\n",
       "</div>"
      ],
      "text/plain": [
       "    STATUS    COUNT\n",
       "0  delayed  1561855\n",
       "1  on time  4171065"
      ]
     },
     "execution_count": 23,
     "metadata": {},
     "output_type": "execute_result"
    }
   ],
   "source": [
    "# counting the number of flights delayed and the number of flights on time\n",
    "countByStatus = pd.DataFrame({'COUNT' : flights.groupby('STATUS').size()}).reset_index()\n",
    "countByStatus"
   ]
  },
  {
   "cell_type": "code",
   "execution_count": 24,
   "metadata": {},
   "outputs": [
    {
     "data": {
      "image/png": "[encoded data removed]",
      "text/plain": [
       "<matplotlib.figure.Figure at 0x1266dcf28>"
      ]
     },
     "metadata": {},
     "output_type": "display_data"
    }
   ],
   "source": [
    "# distribution of class labels\n",
    "plt.bar(range(len(countByStatus['STATUS'])),countByStatus['COUNT'], align = 'center')\n",
    "plt.xticks(range(len(countByStatus['STATUS'])), countByStatus['STATUS'])\n",
    "#plt.yticks(range(0,30,5))\n",
    "plt.xlabel('Status')\n",
    "plt.ylabel('Number of flights')\n",
    "plt.title('Distribution of flights status')\n",
    "plt.show()"
   ]
  },
  {
   "cell_type": "code",
   "execution_count": 25,
   "metadata": {
    "collapsed": true
   },
   "outputs": [],
   "source": [
    "#Grouping the data based on Airline to determine the number of flights by each airline\n",
    "countByAirline = pd.DataFrame({'COUNT' : flights.groupby('AIRLINE').size()}).reset_index()\n",
    "countByAirline['PERCENTAGE'] = np.nan\n",
    "total = countByAirline['COUNT'].sum()\n",
    "countByAirline['PERCENTAGE'] = (countByAirline['COUNT']/total) * 100"
   ]
  },
  {
   "cell_type": "code",
   "execution_count": 26,
   "metadata": {},
   "outputs": [
    {
     "data": {
      "text/html": [
       "<div>\n",
       "<style>\n",
       "    .dataframe thead tr:only-child th {\n",
       "        text-align: right;\n",
       "    }\n",
       "\n",
       "    .dataframe thead th {\n",
       "        text-align: left;\n",
       "    }\n",
       "\n",
       "    .dataframe tbody tr th {\n",
       "        vertical-align: top;\n",
       "    }\n",
       "</style>\n",
       "<table border=\"1\" class=\"dataframe\">\n",
       "  <thead>\n",
       "    <tr style=\"text-align: right;\">\n",
       "      <th></th>\n",
       "      <th>AIRLINE</th>\n",
       "      <th>COUNT</th>\n",
       "      <th>PERCENTAGE</th>\n",
       "    </tr>\n",
       "  </thead>\n",
       "  <tbody>\n",
       "    <tr>\n",
       "      <th>0</th>\n",
       "      <td>AA</td>\n",
       "      <td>715598</td>\n",
       "      <td>12.482260</td>\n",
       "    </tr>\n",
       "    <tr>\n",
       "      <th>1</th>\n",
       "      <td>AS</td>\n",
       "      <td>171910</td>\n",
       "      <td>2.998646</td>\n",
       "    </tr>\n",
       "    <tr>\n",
       "      <th>2</th>\n",
       "      <td>B6</td>\n",
       "      <td>262843</td>\n",
       "      <td>4.584801</td>\n",
       "    </tr>\n",
       "    <tr>\n",
       "      <th>3</th>\n",
       "      <td>DL</td>\n",
       "      <td>872177</td>\n",
       "      <td>15.213486</td>\n",
       "    </tr>\n",
       "    <tr>\n",
       "      <th>4</th>\n",
       "      <td>EV</td>\n",
       "      <td>557294</td>\n",
       "      <td>9.720945</td>\n",
       "    </tr>\n",
       "    <tr>\n",
       "      <th>5</th>\n",
       "      <td>F9</td>\n",
       "      <td>90290</td>\n",
       "      <td>1.574939</td>\n",
       "    </tr>\n",
       "    <tr>\n",
       "      <th>6</th>\n",
       "      <td>HA</td>\n",
       "      <td>76119</td>\n",
       "      <td>1.327753</td>\n",
       "    </tr>\n",
       "    <tr>\n",
       "      <th>7</th>\n",
       "      <td>MQ</td>\n",
       "      <td>280282</td>\n",
       "      <td>4.888992</td>\n",
       "    </tr>\n",
       "    <tr>\n",
       "      <th>8</th>\n",
       "      <td>NK</td>\n",
       "      <td>115448</td>\n",
       "      <td>2.013773</td>\n",
       "    </tr>\n",
       "    <tr>\n",
       "      <th>9</th>\n",
       "      <td>OO</td>\n",
       "      <td>579086</td>\n",
       "      <td>10.101065</td>\n",
       "    </tr>\n",
       "    <tr>\n",
       "      <th>10</th>\n",
       "      <td>UA</td>\n",
       "      <td>509534</td>\n",
       "      <td>8.887862</td>\n",
       "    </tr>\n",
       "    <tr>\n",
       "      <th>11</th>\n",
       "      <td>US</td>\n",
       "      <td>194825</td>\n",
       "      <td>3.398355</td>\n",
       "    </tr>\n",
       "    <tr>\n",
       "      <th>12</th>\n",
       "      <td>VX</td>\n",
       "      <td>61385</td>\n",
       "      <td>1.070746</td>\n",
       "    </tr>\n",
       "    <tr>\n",
       "      <th>13</th>\n",
       "      <td>WN</td>\n",
       "      <td>1246129</td>\n",
       "      <td>21.736375</td>\n",
       "    </tr>\n",
       "  </tbody>\n",
       "</table>\n",
       "</div>"
      ],
      "text/plain": [
       "   AIRLINE    COUNT  PERCENTAGE\n",
       "0       AA   715598   12.482260\n",
       "1       AS   171910    2.998646\n",
       "2       B6   262843    4.584801\n",
       "3       DL   872177   15.213486\n",
       "4       EV   557294    9.720945\n",
       "5       F9    90290    1.574939\n",
       "6       HA    76119    1.327753\n",
       "7       MQ   280282    4.888992\n",
       "8       NK   115448    2.013773\n",
       "9       OO   579086   10.101065\n",
       "10      UA   509534    8.887862\n",
       "11      US   194825    3.398355\n",
       "12      VX    61385    1.070746\n",
       "13      WN  1246129   21.736375"
      ]
     },
     "execution_count": 26,
     "metadata": {},
     "output_type": "execute_result"
    }
   ],
   "source": [
    "countByAirline"
   ]
  },
  {
   "cell_type": "code",
   "execution_count": 27,
   "metadata": {},
   "outputs": [
    {
     "data": {
      "image/png": "[encoded data removed]",
      "text/plain": [
       "<matplotlib.figure.Figure at 0x126851a58>"
      ]
     },
     "metadata": {},
     "output_type": "display_data"
    }
   ],
   "source": [
    "# distribution of number of flights by airline\n",
    "plt.bar(range(len(countByAirline['AIRLINE'])),countByAirline['PERCENTAGE'], align = 'center')\n",
    "plt.xticks(range(len(countByAirline['AIRLINE'])), countByAirline['AIRLINE'])\n",
    "plt.yticks(range(0,30,5))\n",
    "plt.xlabel('Airline')\n",
    "plt.ylabel('Percentage of number of flights')\n",
    "plt.title('Number of flights by airline')\n",
    "plt.show()"
   ]
  },
  {
   "cell_type": "code",
   "execution_count": 28,
   "metadata": {},
   "outputs": [
    {
     "data": {
      "text/html": [
       "<div>\n",
       "<style>\n",
       "    .dataframe thead tr:only-child th {\n",
       "        text-align: right;\n",
       "    }\n",
       "\n",
       "    .dataframe thead th {\n",
       "        text-align: left;\n",
       "    }\n",
       "\n",
       "    .dataframe tbody tr th {\n",
       "        vertical-align: top;\n",
       "    }\n",
       "</style>\n",
       "<table border=\"1\" class=\"dataframe\">\n",
       "  <thead>\n",
       "    <tr style=\"text-align: right;\">\n",
       "      <th></th>\n",
       "      <th>AIRLINE</th>\n",
       "      <th>STATUS</th>\n",
       "      <th>COUNT</th>\n",
       "    </tr>\n",
       "  </thead>\n",
       "  <tbody>\n",
       "    <tr>\n",
       "      <th>0</th>\n",
       "      <td>AA</td>\n",
       "      <td>delayed</td>\n",
       "      <td>178708</td>\n",
       "    </tr>\n",
       "    <tr>\n",
       "      <th>1</th>\n",
       "      <td>AA</td>\n",
       "      <td>on time</td>\n",
       "      <td>536890</td>\n",
       "    </tr>\n",
       "    <tr>\n",
       "      <th>2</th>\n",
       "      <td>AS</td>\n",
       "      <td>delayed</td>\n",
       "      <td>29591</td>\n",
       "    </tr>\n",
       "    <tr>\n",
       "      <th>3</th>\n",
       "      <td>AS</td>\n",
       "      <td>on time</td>\n",
       "      <td>142319</td>\n",
       "    </tr>\n",
       "    <tr>\n",
       "      <th>4</th>\n",
       "      <td>B6</td>\n",
       "      <td>delayed</td>\n",
       "      <td>80703</td>\n",
       "    </tr>\n",
       "    <tr>\n",
       "      <th>5</th>\n",
       "      <td>B6</td>\n",
       "      <td>on time</td>\n",
       "      <td>182140</td>\n",
       "    </tr>\n",
       "    <tr>\n",
       "      <th>6</th>\n",
       "      <td>DL</td>\n",
       "      <td>delayed</td>\n",
       "      <td>195362</td>\n",
       "    </tr>\n",
       "    <tr>\n",
       "      <th>7</th>\n",
       "      <td>DL</td>\n",
       "      <td>on time</td>\n",
       "      <td>676815</td>\n",
       "    </tr>\n",
       "    <tr>\n",
       "      <th>8</th>\n",
       "      <td>EV</td>\n",
       "      <td>delayed</td>\n",
       "      <td>133316</td>\n",
       "    </tr>\n",
       "    <tr>\n",
       "      <th>9</th>\n",
       "      <td>EV</td>\n",
       "      <td>on time</td>\n",
       "      <td>423978</td>\n",
       "    </tr>\n",
       "    <tr>\n",
       "      <th>10</th>\n",
       "      <td>F9</td>\n",
       "      <td>delayed</td>\n",
       "      <td>28302</td>\n",
       "    </tr>\n",
       "    <tr>\n",
       "      <th>11</th>\n",
       "      <td>F9</td>\n",
       "      <td>on time</td>\n",
       "      <td>61988</td>\n",
       "    </tr>\n",
       "    <tr>\n",
       "      <th>12</th>\n",
       "      <td>HA</td>\n",
       "      <td>delayed</td>\n",
       "      <td>11752</td>\n",
       "    </tr>\n",
       "    <tr>\n",
       "      <th>13</th>\n",
       "      <td>HA</td>\n",
       "      <td>on time</td>\n",
       "      <td>64367</td>\n",
       "    </tr>\n",
       "    <tr>\n",
       "      <th>14</th>\n",
       "      <td>MQ</td>\n",
       "      <td>delayed</td>\n",
       "      <td>75966</td>\n",
       "    </tr>\n",
       "    <tr>\n",
       "      <th>15</th>\n",
       "      <td>MQ</td>\n",
       "      <td>on time</td>\n",
       "      <td>204316</td>\n",
       "    </tr>\n",
       "    <tr>\n",
       "      <th>16</th>\n",
       "      <td>NK</td>\n",
       "      <td>delayed</td>\n",
       "      <td>42588</td>\n",
       "    </tr>\n",
       "    <tr>\n",
       "      <th>17</th>\n",
       "      <td>NK</td>\n",
       "      <td>on time</td>\n",
       "      <td>72860</td>\n",
       "    </tr>\n",
       "    <tr>\n",
       "      <th>18</th>\n",
       "      <td>OO</td>\n",
       "      <td>delayed</td>\n",
       "      <td>134135</td>\n",
       "    </tr>\n",
       "    <tr>\n",
       "      <th>19</th>\n",
       "      <td>OO</td>\n",
       "      <td>on time</td>\n",
       "      <td>444951</td>\n",
       "    </tr>\n",
       "    <tr>\n",
       "      <th>20</th>\n",
       "      <td>UA</td>\n",
       "      <td>delayed</td>\n",
       "      <td>181758</td>\n",
       "    </tr>\n",
       "    <tr>\n",
       "      <th>21</th>\n",
       "      <td>UA</td>\n",
       "      <td>on time</td>\n",
       "      <td>327776</td>\n",
       "    </tr>\n",
       "    <tr>\n",
       "      <th>22</th>\n",
       "      <td>US</td>\n",
       "      <td>delayed</td>\n",
       "      <td>43904</td>\n",
       "    </tr>\n",
       "    <tr>\n",
       "      <th>23</th>\n",
       "      <td>US</td>\n",
       "      <td>on time</td>\n",
       "      <td>150921</td>\n",
       "    </tr>\n",
       "    <tr>\n",
       "      <th>24</th>\n",
       "      <td>VX</td>\n",
       "      <td>delayed</td>\n",
       "      <td>16583</td>\n",
       "    </tr>\n",
       "    <tr>\n",
       "      <th>25</th>\n",
       "      <td>VX</td>\n",
       "      <td>on time</td>\n",
       "      <td>44802</td>\n",
       "    </tr>\n",
       "    <tr>\n",
       "      <th>26</th>\n",
       "      <td>WN</td>\n",
       "      <td>delayed</td>\n",
       "      <td>409187</td>\n",
       "    </tr>\n",
       "    <tr>\n",
       "      <th>27</th>\n",
       "      <td>WN</td>\n",
       "      <td>on time</td>\n",
       "      <td>836942</td>\n",
       "    </tr>\n",
       "  </tbody>\n",
       "</table>\n",
       "</div>"
      ],
      "text/plain": [
       "   AIRLINE   STATUS   COUNT\n",
       "0       AA  delayed  178708\n",
       "1       AA  on time  536890\n",
       "2       AS  delayed   29591\n",
       "3       AS  on time  142319\n",
       "4       B6  delayed   80703\n",
       "5       B6  on time  182140\n",
       "6       DL  delayed  195362\n",
       "7       DL  on time  676815\n",
       "8       EV  delayed  133316\n",
       "9       EV  on time  423978\n",
       "10      F9  delayed   28302\n",
       "11      F9  on time   61988\n",
       "12      HA  delayed   11752\n",
       "13      HA  on time   64367\n",
       "14      MQ  delayed   75966\n",
       "15      MQ  on time  204316\n",
       "16      NK  delayed   42588\n",
       "17      NK  on time   72860\n",
       "18      OO  delayed  134135\n",
       "19      OO  on time  444951\n",
       "20      UA  delayed  181758\n",
       "21      UA  on time  327776\n",
       "22      US  delayed   43904\n",
       "23      US  on time  150921\n",
       "24      VX  delayed   16583\n",
       "25      VX  on time   44802\n",
       "26      WN  delayed  409187\n",
       "27      WN  on time  836942"
      ]
     },
     "execution_count": 28,
     "metadata": {},
     "output_type": "execute_result"
    }
   ],
   "source": [
    "# determining the number of flights delayed and number of ontime flights by each airline\n",
    "countByAirlineStatus = pd.DataFrame({'COUNT' : flights.groupby(['AIRLINE','STATUS']).size()}).reset_index()\n",
    "countByAirlineStatus"
   ]
  },
  {
   "cell_type": "code",
   "execution_count": 29,
   "metadata": {
    "collapsed": true
   },
   "outputs": [],
   "source": [
    "delayedByAirline = countByAirlineStatus[countByAirlineStatus['STATUS'] == \"delayed\"]\n",
    "#ontimeByAirline = countByAirlineStatus[countByAirlineStatus['STATUS'] == \"on time\"]"
   ]
  },
  {
   "cell_type": "code",
   "execution_count": 30,
   "metadata": {},
   "outputs": [
    {
     "data": {
      "image/png": "[encoded data removed]",
      "text/plain": [
       "<matplotlib.figure.Figure at 0x1277f3160>"
      ]
     },
     "metadata": {},
     "output_type": "display_data"
    }
   ],
   "source": [
    "# distribution of delayed and ontime flights by airline\n",
    "plt.bar(range(len(countByAirline['AIRLINE'])),countByAirline['COUNT'], align = 'center', \\\n",
    "        color = 'b', alpha = 0.5, label = \"total flights\")\n",
    "plt.bar(range(len(delayedByAirline['AIRLINE'])),delayedByAirline['COUNT'], align = 'center', \\\n",
    "        color = 'r', alpha = 0.5, label = \"delayed flights\")\n",
    "plt.xticks(range(len(countByAirline['AIRLINE'])), countByAirline['AIRLINE'])\n",
    "plt.yticks(range(0,1300000,100000))\n",
    "plt.xlabel('Airline')\n",
    "plt.ylabel('Number of flights')\n",
    "plt.title('Number of flights by airline')\n",
    "plt.legend()\n",
    "plt.show()"
   ]
  },
  {
   "cell_type": "code",
   "execution_count": 31,
   "metadata": {},
   "outputs": [
    {
     "data": {
      "text/html": [
       "<div>\n",
       "<style>\n",
       "    .dataframe thead tr:only-child th {\n",
       "        text-align: right;\n",
       "    }\n",
       "\n",
       "    .dataframe thead th {\n",
       "        text-align: left;\n",
       "    }\n",
       "\n",
       "    .dataframe tbody tr th {\n",
       "        vertical-align: top;\n",
       "    }\n",
       "</style>\n",
       "<table border=\"1\" class=\"dataframe\">\n",
       "  <thead>\n",
       "    <tr style=\"text-align: right;\">\n",
       "      <th></th>\n",
       "      <th>DAY_OF_WEEK</th>\n",
       "      <th>COUNT</th>\n",
       "    </tr>\n",
       "  </thead>\n",
       "  <tbody>\n",
       "    <tr>\n",
       "      <th>0</th>\n",
       "      <td>1</td>\n",
       "      <td>845287</td>\n",
       "    </tr>\n",
       "    <tr>\n",
       "      <th>1</th>\n",
       "      <td>2</td>\n",
       "      <td>829990</td>\n",
       "    </tr>\n",
       "    <tr>\n",
       "      <th>2</th>\n",
       "      <td>3</td>\n",
       "      <td>845583</td>\n",
       "    </tr>\n",
       "    <tr>\n",
       "      <th>3</th>\n",
       "      <td>4</td>\n",
       "      <td>860780</td>\n",
       "    </tr>\n",
       "    <tr>\n",
       "      <th>4</th>\n",
       "      <td>5</td>\n",
       "      <td>853884</td>\n",
       "    </tr>\n",
       "    <tr>\n",
       "      <th>5</th>\n",
       "      <td>6</td>\n",
       "      <td>692252</td>\n",
       "    </tr>\n",
       "    <tr>\n",
       "      <th>6</th>\n",
       "      <td>7</td>\n",
       "      <td>805144</td>\n",
       "    </tr>\n",
       "  </tbody>\n",
       "</table>\n",
       "</div>"
      ],
      "text/plain": [
       "   DAY_OF_WEEK   COUNT\n",
       "0            1  845287\n",
       "1            2  829990\n",
       "2            3  845583\n",
       "3            4  860780\n",
       "4            5  853884\n",
       "5            6  692252\n",
       "6            7  805144"
      ]
     },
     "execution_count": 31,
     "metadata": {},
     "output_type": "execute_result"
    }
   ],
   "source": [
    "# determing the number of flights by the day of the week\n",
    "# 1 represents Monday, while 7 represents Sunday\n",
    "countFlightsDayWeek = pd.DataFrame({'COUNT' : flights.groupby('DAY_OF_WEEK').size()}).reset_index()\n",
    "countFlightsDayWeek"
   ]
  },
  {
   "cell_type": "code",
   "execution_count": 32,
   "metadata": {},
   "outputs": [
    {
     "data": {
      "text/html": [
       "<div>\n",
       "<style>\n",
       "    .dataframe thead tr:only-child th {\n",
       "        text-align: right;\n",
       "    }\n",
       "\n",
       "    .dataframe thead th {\n",
       "        text-align: left;\n",
       "    }\n",
       "\n",
       "    .dataframe tbody tr th {\n",
       "        vertical-align: top;\n",
       "    }\n",
       "</style>\n",
       "<table border=\"1\" class=\"dataframe\">\n",
       "  <thead>\n",
       "    <tr style=\"text-align: right;\">\n",
       "      <th></th>\n",
       "      <th>DAY_OF_WEEK</th>\n",
       "      <th>STATUS</th>\n",
       "      <th>COUNT</th>\n",
       "    </tr>\n",
       "  </thead>\n",
       "  <tbody>\n",
       "    <tr>\n",
       "      <th>0</th>\n",
       "      <td>1</td>\n",
       "      <td>delayed</td>\n",
       "      <td>239472</td>\n",
       "    </tr>\n",
       "    <tr>\n",
       "      <th>1</th>\n",
       "      <td>1</td>\n",
       "      <td>on time</td>\n",
       "      <td>605815</td>\n",
       "    </tr>\n",
       "    <tr>\n",
       "      <th>2</th>\n",
       "      <td>2</td>\n",
       "      <td>delayed</td>\n",
       "      <td>218899</td>\n",
       "    </tr>\n",
       "    <tr>\n",
       "      <th>3</th>\n",
       "      <td>2</td>\n",
       "      <td>on time</td>\n",
       "      <td>611091</td>\n",
       "    </tr>\n",
       "    <tr>\n",
       "      <th>4</th>\n",
       "      <td>3</td>\n",
       "      <td>delayed</td>\n",
       "      <td>222550</td>\n",
       "    </tr>\n",
       "    <tr>\n",
       "      <th>5</th>\n",
       "      <td>3</td>\n",
       "      <td>on time</td>\n",
       "      <td>623033</td>\n",
       "    </tr>\n",
       "    <tr>\n",
       "      <th>6</th>\n",
       "      <td>4</td>\n",
       "      <td>delayed</td>\n",
       "      <td>246658</td>\n",
       "    </tr>\n",
       "    <tr>\n",
       "      <th>7</th>\n",
       "      <td>4</td>\n",
       "      <td>on time</td>\n",
       "      <td>614122</td>\n",
       "    </tr>\n",
       "    <tr>\n",
       "      <th>8</th>\n",
       "      <td>5</td>\n",
       "      <td>delayed</td>\n",
       "      <td>241371</td>\n",
       "    </tr>\n",
       "    <tr>\n",
       "      <th>9</th>\n",
       "      <td>5</td>\n",
       "      <td>on time</td>\n",
       "      <td>612513</td>\n",
       "    </tr>\n",
       "    <tr>\n",
       "      <th>10</th>\n",
       "      <td>6</td>\n",
       "      <td>delayed</td>\n",
       "      <td>171863</td>\n",
       "    </tr>\n",
       "    <tr>\n",
       "      <th>11</th>\n",
       "      <td>6</td>\n",
       "      <td>on time</td>\n",
       "      <td>520389</td>\n",
       "    </tr>\n",
       "    <tr>\n",
       "      <th>12</th>\n",
       "      <td>7</td>\n",
       "      <td>delayed</td>\n",
       "      <td>221042</td>\n",
       "    </tr>\n",
       "    <tr>\n",
       "      <th>13</th>\n",
       "      <td>7</td>\n",
       "      <td>on time</td>\n",
       "      <td>584102</td>\n",
       "    </tr>\n",
       "  </tbody>\n",
       "</table>\n",
       "</div>"
      ],
      "text/plain": [
       "    DAY_OF_WEEK   STATUS   COUNT\n",
       "0             1  delayed  239472\n",
       "1             1  on time  605815\n",
       "2             2  delayed  218899\n",
       "3             2  on time  611091\n",
       "4             3  delayed  222550\n",
       "5             3  on time  623033\n",
       "6             4  delayed  246658\n",
       "7             4  on time  614122\n",
       "8             5  delayed  241371\n",
       "9             5  on time  612513\n",
       "10            6  delayed  171863\n",
       "11            6  on time  520389\n",
       "12            7  delayed  221042\n",
       "13            7  on time  584102"
      ]
     },
     "execution_count": 32,
     "metadata": {},
     "output_type": "execute_result"
    }
   ],
   "source": [
    "# determining the total number of delayed and ontime flights for each day of the week\n",
    "countFlightsDayStatus = pd.DataFrame({'COUNT' : flights.groupby(['DAY_OF_WEEK', 'STATUS']).size()}).reset_index()\n",
    "countFlightsDayStatus"
   ]
  },
  {
   "cell_type": "code",
   "execution_count": 33,
   "metadata": {},
   "outputs": [
    {
     "data": {
      "text/html": [
       "<div>\n",
       "<style>\n",
       "    .dataframe thead tr:only-child th {\n",
       "        text-align: right;\n",
       "    }\n",
       "\n",
       "    .dataframe thead th {\n",
       "        text-align: left;\n",
       "    }\n",
       "\n",
       "    .dataframe tbody tr th {\n",
       "        vertical-align: top;\n",
       "    }\n",
       "</style>\n",
       "<table border=\"1\" class=\"dataframe\">\n",
       "  <thead>\n",
       "    <tr style=\"text-align: right;\">\n",
       "      <th></th>\n",
       "      <th>DAY_OF_WEEK</th>\n",
       "      <th>STATUS</th>\n",
       "      <th>COUNT</th>\n",
       "    </tr>\n",
       "  </thead>\n",
       "  <tbody>\n",
       "    <tr>\n",
       "      <th>0</th>\n",
       "      <td>1</td>\n",
       "      <td>delayed</td>\n",
       "      <td>239472</td>\n",
       "    </tr>\n",
       "    <tr>\n",
       "      <th>2</th>\n",
       "      <td>2</td>\n",
       "      <td>delayed</td>\n",
       "      <td>218899</td>\n",
       "    </tr>\n",
       "    <tr>\n",
       "      <th>4</th>\n",
       "      <td>3</td>\n",
       "      <td>delayed</td>\n",
       "      <td>222550</td>\n",
       "    </tr>\n",
       "    <tr>\n",
       "      <th>6</th>\n",
       "      <td>4</td>\n",
       "      <td>delayed</td>\n",
       "      <td>246658</td>\n",
       "    </tr>\n",
       "    <tr>\n",
       "      <th>8</th>\n",
       "      <td>5</td>\n",
       "      <td>delayed</td>\n",
       "      <td>241371</td>\n",
       "    </tr>\n",
       "    <tr>\n",
       "      <th>10</th>\n",
       "      <td>6</td>\n",
       "      <td>delayed</td>\n",
       "      <td>171863</td>\n",
       "    </tr>\n",
       "    <tr>\n",
       "      <th>12</th>\n",
       "      <td>7</td>\n",
       "      <td>delayed</td>\n",
       "      <td>221042</td>\n",
       "    </tr>\n",
       "  </tbody>\n",
       "</table>\n",
       "</div>"
      ],
      "text/plain": [
       "    DAY_OF_WEEK   STATUS   COUNT\n",
       "0             1  delayed  239472\n",
       "2             2  delayed  218899\n",
       "4             3  delayed  222550\n",
       "6             4  delayed  246658\n",
       "8             5  delayed  241371\n",
       "10            6  delayed  171863\n",
       "12            7  delayed  221042"
      ]
     },
     "execution_count": 33,
     "metadata": {},
     "output_type": "execute_result"
    }
   ],
   "source": [
    "delayedByDayWeek = countFlightsDayStatus[countFlightsDayStatus['STATUS'] == \"delayed\"]\n",
    "delayedByDayWeek"
   ]
  },
  {
   "cell_type": "code",
   "execution_count": 34,
   "metadata": {},
   "outputs": [
    {
     "data": {
      "image/png": "[encoded data removed]",
      "text/plain": [
       "<matplotlib.figure.Figure at 0x12801ea90>"
      ]
     },
     "metadata": {},
     "output_type": "display_data"
    }
   ],
   "source": [
    "# distribution of delayed and ontime flights by day of the week\n",
    "plt.bar(range(len(countFlightsDayWeek['DAY_OF_WEEK'])),countFlightsDayWeek['COUNT'], align = 'center', \\\n",
    "        color = 'b', alpha = 0.5, label = \"total flights\")\n",
    "plt.bar(range(len(delayedByDayWeek['DAY_OF_WEEK'])),delayedByDayWeek['COUNT'], align = 'center', \\\n",
    "        color = 'r', alpha = 0.5, label = \"delayed flights\")\n",
    "plt.xticks(range(len(countFlightsDayWeek['DAY_OF_WEEK'])), countFlightsDayWeek['DAY_OF_WEEK'])\n",
    "plt.yticks(range(0,900000,100000))\n",
    "plt.xlabel('Day of Week')\n",
    "plt.ylabel('Number of flights')\n",
    "plt.title('Number of flights by day')\n",
    "plt.legend()\n",
    "plt.show()"
   ]
  },
  {
   "cell_type": "code",
   "execution_count": 35,
   "metadata": {},
   "outputs": [
    {
     "data": {
      "text/plain": [
       "(867441, 14)"
      ]
     },
     "execution_count": 35,
     "metadata": {},
     "output_type": "execute_result"
    }
   ],
   "source": [
    "# getting a subset of the data for modelling\n",
    "# considering the data for the first two months (January and February)\n",
    "modellingData = flights[flights['MONTH'] <= 2]\n",
    "modellingData.shape"
   ]
  },
  {
   "cell_type": "code",
   "execution_count": 36,
   "metadata": {},
   "outputs": [
    {
     "data": {
      "text/html": [
       "<div>\n",
       "<style>\n",
       "    .dataframe thead tr:only-child th {\n",
       "        text-align: right;\n",
       "    }\n",
       "\n",
       "    .dataframe thead th {\n",
       "        text-align: left;\n",
       "    }\n",
       "\n",
       "    .dataframe tbody tr th {\n",
       "        vertical-align: top;\n",
       "    }\n",
       "</style>\n",
       "<table border=\"1\" class=\"dataframe\">\n",
       "  <thead>\n",
       "    <tr style=\"text-align: right;\">\n",
       "      <th></th>\n",
       "      <th>STATUS</th>\n",
       "      <th>COUNT</th>\n",
       "    </tr>\n",
       "  </thead>\n",
       "  <tbody>\n",
       "    <tr>\n",
       "      <th>0</th>\n",
       "      <td>delayed</td>\n",
       "      <td>263836</td>\n",
       "    </tr>\n",
       "    <tr>\n",
       "      <th>1</th>\n",
       "      <td>on time</td>\n",
       "      <td>603605</td>\n",
       "    </tr>\n",
       "  </tbody>\n",
       "</table>\n",
       "</div>"
      ],
      "text/plain": [
       "    STATUS   COUNT\n",
       "0  delayed  263836\n",
       "1  on time  603605"
      ]
     },
     "execution_count": 36,
     "metadata": {},
     "output_type": "execute_result"
    }
   ],
   "source": [
    "# distribution of clas labels in the data subset\n",
    "modellingDataDistribution = pd.DataFrame({'COUNT' : modellingData.groupby('STATUS').size()}).reset_index()\n",
    "modellingDataDistribution"
   ]
  },
  {
   "cell_type": "code",
   "execution_count": 37,
   "metadata": {},
   "outputs": [
    {
     "data": {
      "image/png": "[encoded data removed]",
      "text/plain": [
       "<matplotlib.figure.Figure at 0x1280245c0>"
      ]
     },
     "metadata": {},
     "output_type": "display_data"
    }
   ],
   "source": [
    "# distribution of class labels\n",
    "plt.bar(range(len(modellingDataDistribution['STATUS'])),modellingDataDistribution['COUNT'], align = 'center')\n",
    "plt.xticks(range(len(modellingDataDistribution['STATUS'])), modellingDataDistribution['STATUS'])\n",
    "#plt.yticks(range(0,30,5))\n",
    "plt.xlabel('Status')\n",
    "plt.ylabel('Number of flights')\n",
    "plt.title('Distribution of flights status')\n",
    "plt.show()"
   ]
  },
  {
   "cell_type": "markdown",
   "metadata": {},
   "source": [
    "## Data preprocessing for implementation"
   ]
  },
  {
   "cell_type": "code",
   "execution_count": 38,
   "metadata": {},
   "outputs": [
    {
     "data": {
      "text/plain": [
       "Index(['YEAR', 'MONTH', 'DAY', 'DAY_OF_WEEK', 'AIRLINE', 'ORIGIN_AIRPORT',\n",
       "       'DESTINATION_AIRPORT', 'SCHEDULED_DEPARTURE', 'DEPARTURE_TIME',\n",
       "       'DEPARTURE_DELAY', 'SCHEDULED_TIME', 'DISTANCE', 'SCHEDULED_ARRIVAL',\n",
       "       'STATUS'],\n",
       "      dtype='object')"
      ]
     },
     "execution_count": 38,
     "metadata": {},
     "output_type": "execute_result"
    }
   ],
   "source": [
    "# list of columns\n",
    "modellingData.columns"
   ]
  },
  {
   "cell_type": "code",
   "execution_count": 39,
   "metadata": {
    "collapsed": true
   },
   "outputs": [],
   "source": [
    "# removing unnecessary columns\n",
    "modellingData = modellingData.drop(['YEAR','DEPARTURE_TIME','DEPARTURE_DELAY'],axis = 1)"
   ]
  },
  {
   "cell_type": "code",
   "execution_count": 40,
   "metadata": {},
   "outputs": [
    {
     "data": {
      "text/html": [
       "<div>\n",
       "<style>\n",
       "    .dataframe thead tr:only-child th {\n",
       "        text-align: right;\n",
       "    }\n",
       "\n",
       "    .dataframe thead th {\n",
       "        text-align: left;\n",
       "    }\n",
       "\n",
       "    .dataframe tbody tr th {\n",
       "        vertical-align: top;\n",
       "    }\n",
       "</style>\n",
       "<table border=\"1\" class=\"dataframe\">\n",
       "  <thead>\n",
       "    <tr style=\"text-align: right;\">\n",
       "      <th></th>\n",
       "      <th>MONTH</th>\n",
       "      <th>DAY</th>\n",
       "      <th>DAY_OF_WEEK</th>\n",
       "      <th>AIRLINE</th>\n",
       "      <th>ORIGIN_AIRPORT</th>\n",
       "      <th>DESTINATION_AIRPORT</th>\n",
       "      <th>SCHEDULED_DEPARTURE</th>\n",
       "      <th>SCHEDULED_TIME</th>\n",
       "      <th>DISTANCE</th>\n",
       "      <th>SCHEDULED_ARRIVAL</th>\n",
       "      <th>STATUS</th>\n",
       "    </tr>\n",
       "  </thead>\n",
       "  <tbody>\n",
       "    <tr>\n",
       "      <th>0</th>\n",
       "      <td>1</td>\n",
       "      <td>1</td>\n",
       "      <td>4</td>\n",
       "      <td>AS</td>\n",
       "      <td>ANC</td>\n",
       "      <td>SEA</td>\n",
       "      <td>1</td>\n",
       "      <td>205.0</td>\n",
       "      <td>1448</td>\n",
       "      <td>5</td>\n",
       "      <td>on time</td>\n",
       "    </tr>\n",
       "    <tr>\n",
       "      <th>1</th>\n",
       "      <td>1</td>\n",
       "      <td>1</td>\n",
       "      <td>4</td>\n",
       "      <td>AA</td>\n",
       "      <td>LAX</td>\n",
       "      <td>PBI</td>\n",
       "      <td>1</td>\n",
       "      <td>280.0</td>\n",
       "      <td>2330</td>\n",
       "      <td>8</td>\n",
       "      <td>on time</td>\n",
       "    </tr>\n",
       "    <tr>\n",
       "      <th>2</th>\n",
       "      <td>1</td>\n",
       "      <td>1</td>\n",
       "      <td>4</td>\n",
       "      <td>US</td>\n",
       "      <td>SFO</td>\n",
       "      <td>CLT</td>\n",
       "      <td>1</td>\n",
       "      <td>286.0</td>\n",
       "      <td>2296</td>\n",
       "      <td>9</td>\n",
       "      <td>on time</td>\n",
       "    </tr>\n",
       "    <tr>\n",
       "      <th>3</th>\n",
       "      <td>1</td>\n",
       "      <td>1</td>\n",
       "      <td>4</td>\n",
       "      <td>AA</td>\n",
       "      <td>LAX</td>\n",
       "      <td>MIA</td>\n",
       "      <td>1</td>\n",
       "      <td>285.0</td>\n",
       "      <td>2342</td>\n",
       "      <td>9</td>\n",
       "      <td>on time</td>\n",
       "    </tr>\n",
       "    <tr>\n",
       "      <th>4</th>\n",
       "      <td>1</td>\n",
       "      <td>1</td>\n",
       "      <td>4</td>\n",
       "      <td>AS</td>\n",
       "      <td>SEA</td>\n",
       "      <td>ANC</td>\n",
       "      <td>1</td>\n",
       "      <td>235.0</td>\n",
       "      <td>1448</td>\n",
       "      <td>4</td>\n",
       "      <td>on time</td>\n",
       "    </tr>\n",
       "  </tbody>\n",
       "</table>\n",
       "</div>"
      ],
      "text/plain": [
       "   MONTH  DAY  DAY_OF_WEEK AIRLINE ORIGIN_AIRPORT DESTINATION_AIRPORT  \\\n",
       "0      1    1            4      AS            ANC                 SEA   \n",
       "1      1    1            4      AA            LAX                 PBI   \n",
       "2      1    1            4      US            SFO                 CLT   \n",
       "3      1    1            4      AA            LAX                 MIA   \n",
       "4      1    1            4      AS            SEA                 ANC   \n",
       "\n",
       "   SCHEDULED_DEPARTURE  SCHEDULED_TIME  DISTANCE  SCHEDULED_ARRIVAL   STATUS  \n",
       "0                    1           205.0      1448                  5  on time  \n",
       "1                    1           280.0      2330                  8  on time  \n",
       "2                    1           286.0      2296                  9  on time  \n",
       "3                    1           285.0      2342                  9  on time  \n",
       "4                    1           235.0      1448                  4  on time  "
      ]
     },
     "execution_count": 40,
     "metadata": {},
     "output_type": "execute_result"
    }
   ],
   "source": [
    "modellingData.head()"
   ]
  },
  {
   "cell_type": "code",
   "execution_count": 41,
   "metadata": {
    "collapsed": true
   },
   "outputs": [],
   "source": [
    "# replacing the values of the columns DAY_OF_WEEK and STATUS\n",
    "replaceWeekDay = {1:'Mon',2:'Tue',3:'Wed',4:'Thu',5:'Fri',6:'Sat',7:'Sun'}\n",
    "replaceStatus = {'on time':1, 'delayed':0}\n",
    "modellingData = modellingData.replace({\"DAY_OF_WEEK\":replaceWeekDay,\"STATUS\":replaceStatus})"
   ]
  },
  {
   "cell_type": "code",
   "execution_count": 42,
   "metadata": {},
   "outputs": [
    {
     "data": {
      "text/html": [
       "<div>\n",
       "<style>\n",
       "    .dataframe thead tr:only-child th {\n",
       "        text-align: right;\n",
       "    }\n",
       "\n",
       "    .dataframe thead th {\n",
       "        text-align: left;\n",
       "    }\n",
       "\n",
       "    .dataframe tbody tr th {\n",
       "        vertical-align: top;\n",
       "    }\n",
       "</style>\n",
       "<table border=\"1\" class=\"dataframe\">\n",
       "  <thead>\n",
       "    <tr style=\"text-align: right;\">\n",
       "      <th></th>\n",
       "      <th>MONTH</th>\n",
       "      <th>DAY</th>\n",
       "      <th>DAY_OF_WEEK</th>\n",
       "      <th>AIRLINE</th>\n",
       "      <th>ORIGIN_AIRPORT</th>\n",
       "      <th>DESTINATION_AIRPORT</th>\n",
       "      <th>SCHEDULED_DEPARTURE</th>\n",
       "      <th>SCHEDULED_TIME</th>\n",
       "      <th>DISTANCE</th>\n",
       "      <th>SCHEDULED_ARRIVAL</th>\n",
       "      <th>STATUS</th>\n",
       "    </tr>\n",
       "  </thead>\n",
       "  <tbody>\n",
       "    <tr>\n",
       "      <th>899149</th>\n",
       "      <td>2</td>\n",
       "      <td>28</td>\n",
       "      <td>Sat</td>\n",
       "      <td>B6</td>\n",
       "      <td>PHX</td>\n",
       "      <td>JFK</td>\n",
       "      <td>24</td>\n",
       "      <td>267.0</td>\n",
       "      <td>2153</td>\n",
       "      <td>7</td>\n",
       "      <td>0</td>\n",
       "    </tr>\n",
       "    <tr>\n",
       "      <th>899150</th>\n",
       "      <td>2</td>\n",
       "      <td>28</td>\n",
       "      <td>Sat</td>\n",
       "      <td>B6</td>\n",
       "      <td>DEN</td>\n",
       "      <td>JFK</td>\n",
       "      <td>24</td>\n",
       "      <td>211.0</td>\n",
       "      <td>1626</td>\n",
       "      <td>6</td>\n",
       "      <td>1</td>\n",
       "    </tr>\n",
       "    <tr>\n",
       "      <th>899151</th>\n",
       "      <td>2</td>\n",
       "      <td>28</td>\n",
       "      <td>Sat</td>\n",
       "      <td>B6</td>\n",
       "      <td>JFK</td>\n",
       "      <td>BQN</td>\n",
       "      <td>24</td>\n",
       "      <td>221.0</td>\n",
       "      <td>1576</td>\n",
       "      <td>5</td>\n",
       "      <td>1</td>\n",
       "    </tr>\n",
       "    <tr>\n",
       "      <th>899152</th>\n",
       "      <td>2</td>\n",
       "      <td>28</td>\n",
       "      <td>Sat</td>\n",
       "      <td>B6</td>\n",
       "      <td>JFK</td>\n",
       "      <td>PSE</td>\n",
       "      <td>24</td>\n",
       "      <td>227.0</td>\n",
       "      <td>1617</td>\n",
       "      <td>5</td>\n",
       "      <td>0</td>\n",
       "    </tr>\n",
       "    <tr>\n",
       "      <th>899153</th>\n",
       "      <td>2</td>\n",
       "      <td>28</td>\n",
       "      <td>Sat</td>\n",
       "      <td>B6</td>\n",
       "      <td>SLC</td>\n",
       "      <td>MCO</td>\n",
       "      <td>24</td>\n",
       "      <td>254.0</td>\n",
       "      <td>1931</td>\n",
       "      <td>7</td>\n",
       "      <td>0</td>\n",
       "    </tr>\n",
       "    <tr>\n",
       "      <th>899154</th>\n",
       "      <td>2</td>\n",
       "      <td>28</td>\n",
       "      <td>Sat</td>\n",
       "      <td>B6</td>\n",
       "      <td>JFK</td>\n",
       "      <td>SJU</td>\n",
       "      <td>24</td>\n",
       "      <td>221.0</td>\n",
       "      <td>1598</td>\n",
       "      <td>5</td>\n",
       "      <td>0</td>\n",
       "    </tr>\n",
       "    <tr>\n",
       "      <th>899155</th>\n",
       "      <td>2</td>\n",
       "      <td>28</td>\n",
       "      <td>Sat</td>\n",
       "      <td>US</td>\n",
       "      <td>SLC</td>\n",
       "      <td>PHL</td>\n",
       "      <td>24</td>\n",
       "      <td>238.0</td>\n",
       "      <td>1927</td>\n",
       "      <td>6</td>\n",
       "      <td>1</td>\n",
       "    </tr>\n",
       "    <tr>\n",
       "      <th>899156</th>\n",
       "      <td>2</td>\n",
       "      <td>28</td>\n",
       "      <td>Sat</td>\n",
       "      <td>US</td>\n",
       "      <td>PHX</td>\n",
       "      <td>MSP</td>\n",
       "      <td>24</td>\n",
       "      <td>180.0</td>\n",
       "      <td>1276</td>\n",
       "      <td>4</td>\n",
       "      <td>1</td>\n",
       "    </tr>\n",
       "    <tr>\n",
       "      <th>899157</th>\n",
       "      <td>2</td>\n",
       "      <td>28</td>\n",
       "      <td>Sat</td>\n",
       "      <td>F9</td>\n",
       "      <td>DEN</td>\n",
       "      <td>TPA</td>\n",
       "      <td>24</td>\n",
       "      <td>192.0</td>\n",
       "      <td>1506</td>\n",
       "      <td>6</td>\n",
       "      <td>0</td>\n",
       "    </tr>\n",
       "    <tr>\n",
       "      <th>899158</th>\n",
       "      <td>2</td>\n",
       "      <td>28</td>\n",
       "      <td>Sat</td>\n",
       "      <td>F9</td>\n",
       "      <td>DEN</td>\n",
       "      <td>ATL</td>\n",
       "      <td>24</td>\n",
       "      <td>162.0</td>\n",
       "      <td>1199</td>\n",
       "      <td>5</td>\n",
       "      <td>0</td>\n",
       "    </tr>\n",
       "  </tbody>\n",
       "</table>\n",
       "</div>"
      ],
      "text/plain": [
       "        MONTH  DAY DAY_OF_WEEK AIRLINE ORIGIN_AIRPORT DESTINATION_AIRPORT  \\\n",
       "899149      2   28         Sat      B6            PHX                 JFK   \n",
       "899150      2   28         Sat      B6            DEN                 JFK   \n",
       "899151      2   28         Sat      B6            JFK                 BQN   \n",
       "899152      2   28         Sat      B6            JFK                 PSE   \n",
       "899153      2   28         Sat      B6            SLC                 MCO   \n",
       "899154      2   28         Sat      B6            JFK                 SJU   \n",
       "899155      2   28         Sat      US            SLC                 PHL   \n",
       "899156      2   28         Sat      US            PHX                 MSP   \n",
       "899157      2   28         Sat      F9            DEN                 TPA   \n",
       "899158      2   28         Sat      F9            DEN                 ATL   \n",
       "\n",
       "        SCHEDULED_DEPARTURE  SCHEDULED_TIME  DISTANCE  SCHEDULED_ARRIVAL  \\\n",
       "899149                   24           267.0      2153                  7   \n",
       "899150                   24           211.0      1626                  6   \n",
       "899151                   24           221.0      1576                  5   \n",
       "899152                   24           227.0      1617                  5   \n",
       "899153                   24           254.0      1931                  7   \n",
       "899154                   24           221.0      1598                  5   \n",
       "899155                   24           238.0      1927                  6   \n",
       "899156                   24           180.0      1276                  4   \n",
       "899157                   24           192.0      1506                  6   \n",
       "899158                   24           162.0      1199                  5   \n",
       "\n",
       "        STATUS  \n",
       "899149       0  \n",
       "899150       1  \n",
       "899151       1  \n",
       "899152       0  \n",
       "899153       0  \n",
       "899154       0  \n",
       "899155       1  \n",
       "899156       1  \n",
       "899157       0  \n",
       "899158       0  "
      ]
     },
     "execution_count": 42,
     "metadata": {},
     "output_type": "execute_result"
    }
   ],
   "source": [
    "modellingData.tail(10)"
   ]
  },
  {
   "cell_type": "code",
   "execution_count": 43,
   "metadata": {
    "collapsed": true
   },
   "outputs": [],
   "source": [
    "from sklearn.utils import resample"
   ]
  },
  {
   "cell_type": "code",
   "execution_count": 44,
   "metadata": {
    "collapsed": true
   },
   "outputs": [],
   "source": [
    "# down sampling the majority class to handle imbalanced class distribution\n",
    "modellingDataMajority = modellingData[modellingData['STATUS'] == 1]\n",
    "modellingDataMinority = modellingData[modellingData['STATUS'] == 0]\n",
    "modellingData_majority_downsampled = resample(modellingDataMajority, \n",
    "                                 replace=False,    # sample without replacement\n",
    "                                 n_samples=264000,     # to match minority class\n",
    "                                 random_state=42)"
   ]
  },
  {
   "cell_type": "code",
   "execution_count": 45,
   "metadata": {
    "collapsed": true
   },
   "outputs": [],
   "source": [
    "modellingDataDownsampled = pd.concat([modellingData_majority_downsampled, modellingDataMinority])"
   ]
  },
  {
   "cell_type": "code",
   "execution_count": 46,
   "metadata": {},
   "outputs": [
    {
     "data": {
      "text/plain": [
       "(527836, 11)"
      ]
     },
     "execution_count": 46,
     "metadata": {},
     "output_type": "execute_result"
    }
   ],
   "source": [
    "modellingDataDownsampled.shape"
   ]
  },
  {
   "cell_type": "code",
   "execution_count": 47,
   "metadata": {},
   "outputs": [
    {
     "data": {
      "text/plain": [
       "1    264000\n",
       "0    263836\n",
       "Name: STATUS, dtype: int64"
      ]
     },
     "execution_count": 47,
     "metadata": {},
     "output_type": "execute_result"
    }
   ],
   "source": [
    "modellingDataDownsampled.STATUS.value_counts()"
   ]
  },
  {
   "cell_type": "code",
   "execution_count": 48,
   "metadata": {
    "collapsed": true
   },
   "outputs": [],
   "source": [
    "\"\"\"\n",
    "Performing ONE-HOT-ENCODING on the columns DAY_OF_WEEK, AIRLINE, ORIGIN_AIRPORT\n",
    "and DESTINATION_AIRPORT. These columns represent categorical data. One-Hot-Encoding\n",
    "is used to convert categorical data to boolean binary data by creating new columns.\n",
    "\"\"\"\n",
    "modellingDataDownsampled = pd.get_dummies(modellingDataDownsampled, \\\n",
    "                                    columns=[\"DAY_OF_WEEK\",\"AIRLINE\",\"ORIGIN_AIRPORT\",\"DESTINATION_AIRPORT\"],\\\n",
    "                                    prefix=[\"DAY_OF_WEEK\",\"AIRLINE\",\"ORIGIN_AIRPORT\",\"DESTINATION_AIRPORT\"])"
   ]
  },
  {
   "cell_type": "code",
   "execution_count": 49,
   "metadata": {},
   "outputs": [
    {
     "data": {
      "text/html": [
       "<div>\n",
       "<style>\n",
       "    .dataframe thead tr:only-child th {\n",
       "        text-align: right;\n",
       "    }\n",
       "\n",
       "    .dataframe thead th {\n",
       "        text-align: left;\n",
       "    }\n",
       "\n",
       "    .dataframe tbody tr th {\n",
       "        vertical-align: top;\n",
       "    }\n",
       "</style>\n",
       "<table border=\"1\" class=\"dataframe\">\n",
       "  <thead>\n",
       "    <tr style=\"text-align: right;\">\n",
       "      <th></th>\n",
       "      <th>MONTH</th>\n",
       "      <th>DAY</th>\n",
       "      <th>SCHEDULED_DEPARTURE</th>\n",
       "      <th>SCHEDULED_TIME</th>\n",
       "      <th>DISTANCE</th>\n",
       "      <th>SCHEDULED_ARRIVAL</th>\n",
       "      <th>STATUS</th>\n",
       "      <th>DAY_OF_WEEK_Fri</th>\n",
       "      <th>DAY_OF_WEEK_Mon</th>\n",
       "      <th>DAY_OF_WEEK_Sat</th>\n",
       "      <th>...</th>\n",
       "      <th>DESTINATION_AIRPORT_TYR</th>\n",
       "      <th>DESTINATION_AIRPORT_TYS</th>\n",
       "      <th>DESTINATION_AIRPORT_UST</th>\n",
       "      <th>DESTINATION_AIRPORT_VEL</th>\n",
       "      <th>DESTINATION_AIRPORT_VLD</th>\n",
       "      <th>DESTINATION_AIRPORT_VPS</th>\n",
       "      <th>DESTINATION_AIRPORT_WRG</th>\n",
       "      <th>DESTINATION_AIRPORT_XNA</th>\n",
       "      <th>DESTINATION_AIRPORT_YAK</th>\n",
       "      <th>DESTINATION_AIRPORT_YUM</th>\n",
       "    </tr>\n",
       "  </thead>\n",
       "  <tbody>\n",
       "    <tr>\n",
       "      <th>448153</th>\n",
       "      <td>1</td>\n",
       "      <td>30</td>\n",
       "      <td>12</td>\n",
       "      <td>179.0</td>\n",
       "      <td>936</td>\n",
       "      <td>14</td>\n",
       "      <td>1</td>\n",
       "      <td>1</td>\n",
       "      <td>0</td>\n",
       "      <td>0</td>\n",
       "      <td>...</td>\n",
       "      <td>0</td>\n",
       "      <td>0</td>\n",
       "      <td>0</td>\n",
       "      <td>0</td>\n",
       "      <td>0</td>\n",
       "      <td>0</td>\n",
       "      <td>0</td>\n",
       "      <td>0</td>\n",
       "      <td>0</td>\n",
       "      <td>0</td>\n",
       "    </tr>\n",
       "    <tr>\n",
       "      <th>300428</th>\n",
       "      <td>1</td>\n",
       "      <td>20</td>\n",
       "      <td>17</td>\n",
       "      <td>264.0</td>\n",
       "      <td>1670</td>\n",
       "      <td>20</td>\n",
       "      <td>1</td>\n",
       "      <td>0</td>\n",
       "      <td>0</td>\n",
       "      <td>0</td>\n",
       "      <td>...</td>\n",
       "      <td>0</td>\n",
       "      <td>0</td>\n",
       "      <td>0</td>\n",
       "      <td>0</td>\n",
       "      <td>0</td>\n",
       "      <td>0</td>\n",
       "      <td>0</td>\n",
       "      <td>0</td>\n",
       "      <td>0</td>\n",
       "      <td>0</td>\n",
       "    </tr>\n",
       "    <tr>\n",
       "      <th>125665</th>\n",
       "      <td>1</td>\n",
       "      <td>8</td>\n",
       "      <td>23</td>\n",
       "      <td>59.0</td>\n",
       "      <td>237</td>\n",
       "      <td>24</td>\n",
       "      <td>1</td>\n",
       "      <td>0</td>\n",
       "      <td>0</td>\n",
       "      <td>0</td>\n",
       "      <td>...</td>\n",
       "      <td>0</td>\n",
       "      <td>0</td>\n",
       "      <td>0</td>\n",
       "      <td>0</td>\n",
       "      <td>0</td>\n",
       "      <td>0</td>\n",
       "      <td>0</td>\n",
       "      <td>0</td>\n",
       "      <td>0</td>\n",
       "      <td>0</td>\n",
       "    </tr>\n",
       "    <tr>\n",
       "      <th>242282</th>\n",
       "      <td>1</td>\n",
       "      <td>16</td>\n",
       "      <td>16</td>\n",
       "      <td>65.0</td>\n",
       "      <td>196</td>\n",
       "      <td>18</td>\n",
       "      <td>1</td>\n",
       "      <td>1</td>\n",
       "      <td>0</td>\n",
       "      <td>0</td>\n",
       "      <td>...</td>\n",
       "      <td>0</td>\n",
       "      <td>0</td>\n",
       "      <td>0</td>\n",
       "      <td>0</td>\n",
       "      <td>0</td>\n",
       "      <td>0</td>\n",
       "      <td>0</td>\n",
       "      <td>0</td>\n",
       "      <td>0</td>\n",
       "      <td>0</td>\n",
       "    </tr>\n",
       "    <tr>\n",
       "      <th>474166</th>\n",
       "      <td>2</td>\n",
       "      <td>1</td>\n",
       "      <td>11</td>\n",
       "      <td>77.0</td>\n",
       "      <td>246</td>\n",
       "      <td>13</td>\n",
       "      <td>1</td>\n",
       "      <td>0</td>\n",
       "      <td>0</td>\n",
       "      <td>0</td>\n",
       "      <td>...</td>\n",
       "      <td>0</td>\n",
       "      <td>0</td>\n",
       "      <td>0</td>\n",
       "      <td>0</td>\n",
       "      <td>0</td>\n",
       "      <td>0</td>\n",
       "      <td>0</td>\n",
       "      <td>0</td>\n",
       "      <td>0</td>\n",
       "      <td>0</td>\n",
       "    </tr>\n",
       "  </tbody>\n",
       "</table>\n",
       "<p>5 rows × 658 columns</p>\n",
       "</div>"
      ],
      "text/plain": [
       "        MONTH  DAY  SCHEDULED_DEPARTURE  SCHEDULED_TIME  DISTANCE  \\\n",
       "448153      1   30                   12           179.0       936   \n",
       "300428      1   20                   17           264.0      1670   \n",
       "125665      1    8                   23            59.0       237   \n",
       "242282      1   16                   16            65.0       196   \n",
       "474166      2    1                   11            77.0       246   \n",
       "\n",
       "        SCHEDULED_ARRIVAL  STATUS  DAY_OF_WEEK_Fri  DAY_OF_WEEK_Mon  \\\n",
       "448153                 14       1                1                0   \n",
       "300428                 20       1                0                0   \n",
       "125665                 24       1                0                0   \n",
       "242282                 18       1                1                0   \n",
       "474166                 13       1                0                0   \n",
       "\n",
       "        DAY_OF_WEEK_Sat           ...             DESTINATION_AIRPORT_TYR  \\\n",
       "448153                0           ...                                   0   \n",
       "300428                0           ...                                   0   \n",
       "125665                0           ...                                   0   \n",
       "242282                0           ...                                   0   \n",
       "474166                0           ...                                   0   \n",
       "\n",
       "        DESTINATION_AIRPORT_TYS  DESTINATION_AIRPORT_UST  \\\n",
       "448153                        0                        0   \n",
       "300428                        0                        0   \n",
       "125665                        0                        0   \n",
       "242282                        0                        0   \n",
       "474166                        0                        0   \n",
       "\n",
       "        DESTINATION_AIRPORT_VEL  DESTINATION_AIRPORT_VLD  \\\n",
       "448153                        0                        0   \n",
       "300428                        0                        0   \n",
       "125665                        0                        0   \n",
       "242282                        0                        0   \n",
       "474166                        0                        0   \n",
       "\n",
       "        DESTINATION_AIRPORT_VPS  DESTINATION_AIRPORT_WRG  \\\n",
       "448153                        0                        0   \n",
       "300428                        0                        0   \n",
       "125665                        0                        0   \n",
       "242282                        0                        0   \n",
       "474166                        0                        0   \n",
       "\n",
       "        DESTINATION_AIRPORT_XNA  DESTINATION_AIRPORT_YAK  \\\n",
       "448153                        0                        0   \n",
       "300428                        0                        0   \n",
       "125665                        0                        0   \n",
       "242282                        0                        0   \n",
       "474166                        0                        0   \n",
       "\n",
       "        DESTINATION_AIRPORT_YUM  \n",
       "448153                        0  \n",
       "300428                        0  \n",
       "125665                        0  \n",
       "242282                        0  \n",
       "474166                        0  \n",
       "\n",
       "[5 rows x 658 columns]"
      ]
     },
     "execution_count": 49,
     "metadata": {},
     "output_type": "execute_result"
    }
   ],
   "source": [
    "modellingDataDownsampled.head()"
   ]
  },
  {
   "cell_type": "code",
   "execution_count": 50,
   "metadata": {
    "collapsed": true
   },
   "outputs": [],
   "source": [
    "# rearranging the columns in the dataframe\n",
    "columns = modellingDataDownsampled.columns.tolist()\n",
    "columns.remove('STATUS')\n",
    "columns = columns + ['STATUS']"
   ]
  },
  {
   "cell_type": "code",
   "execution_count": 51,
   "metadata": {
    "collapsed": true
   },
   "outputs": [],
   "source": [
    "modellingDataDownsampled = modellingDataDownsampled[columns]"
   ]
  },
  {
   "cell_type": "code",
   "execution_count": 52,
   "metadata": {},
   "outputs": [
    {
     "data": {
      "text/html": [
       "<div>\n",
       "<style>\n",
       "    .dataframe thead tr:only-child th {\n",
       "        text-align: right;\n",
       "    }\n",
       "\n",
       "    .dataframe thead th {\n",
       "        text-align: left;\n",
       "    }\n",
       "\n",
       "    .dataframe tbody tr th {\n",
       "        vertical-align: top;\n",
       "    }\n",
       "</style>\n",
       "<table border=\"1\" class=\"dataframe\">\n",
       "  <thead>\n",
       "    <tr style=\"text-align: right;\">\n",
       "      <th></th>\n",
       "      <th>MONTH</th>\n",
       "      <th>DAY</th>\n",
       "      <th>SCHEDULED_DEPARTURE</th>\n",
       "      <th>SCHEDULED_TIME</th>\n",
       "      <th>DISTANCE</th>\n",
       "      <th>SCHEDULED_ARRIVAL</th>\n",
       "      <th>DAY_OF_WEEK_Fri</th>\n",
       "      <th>DAY_OF_WEEK_Mon</th>\n",
       "      <th>DAY_OF_WEEK_Sat</th>\n",
       "      <th>DAY_OF_WEEK_Sun</th>\n",
       "      <th>...</th>\n",
       "      <th>DESTINATION_AIRPORT_TYS</th>\n",
       "      <th>DESTINATION_AIRPORT_UST</th>\n",
       "      <th>DESTINATION_AIRPORT_VEL</th>\n",
       "      <th>DESTINATION_AIRPORT_VLD</th>\n",
       "      <th>DESTINATION_AIRPORT_VPS</th>\n",
       "      <th>DESTINATION_AIRPORT_WRG</th>\n",
       "      <th>DESTINATION_AIRPORT_XNA</th>\n",
       "      <th>DESTINATION_AIRPORT_YAK</th>\n",
       "      <th>DESTINATION_AIRPORT_YUM</th>\n",
       "      <th>STATUS</th>\n",
       "    </tr>\n",
       "  </thead>\n",
       "  <tbody>\n",
       "    <tr>\n",
       "      <th>448153</th>\n",
       "      <td>1</td>\n",
       "      <td>30</td>\n",
       "      <td>12</td>\n",
       "      <td>179.0</td>\n",
       "      <td>936</td>\n",
       "      <td>14</td>\n",
       "      <td>1</td>\n",
       "      <td>0</td>\n",
       "      <td>0</td>\n",
       "      <td>0</td>\n",
       "      <td>...</td>\n",
       "      <td>0</td>\n",
       "      <td>0</td>\n",
       "      <td>0</td>\n",
       "      <td>0</td>\n",
       "      <td>0</td>\n",
       "      <td>0</td>\n",
       "      <td>0</td>\n",
       "      <td>0</td>\n",
       "      <td>0</td>\n",
       "      <td>1</td>\n",
       "    </tr>\n",
       "    <tr>\n",
       "      <th>300428</th>\n",
       "      <td>1</td>\n",
       "      <td>20</td>\n",
       "      <td>17</td>\n",
       "      <td>264.0</td>\n",
       "      <td>1670</td>\n",
       "      <td>20</td>\n",
       "      <td>0</td>\n",
       "      <td>0</td>\n",
       "      <td>0</td>\n",
       "      <td>0</td>\n",
       "      <td>...</td>\n",
       "      <td>0</td>\n",
       "      <td>0</td>\n",
       "      <td>0</td>\n",
       "      <td>0</td>\n",
       "      <td>0</td>\n",
       "      <td>0</td>\n",
       "      <td>0</td>\n",
       "      <td>0</td>\n",
       "      <td>0</td>\n",
       "      <td>1</td>\n",
       "    </tr>\n",
       "    <tr>\n",
       "      <th>125665</th>\n",
       "      <td>1</td>\n",
       "      <td>8</td>\n",
       "      <td>23</td>\n",
       "      <td>59.0</td>\n",
       "      <td>237</td>\n",
       "      <td>24</td>\n",
       "      <td>0</td>\n",
       "      <td>0</td>\n",
       "      <td>0</td>\n",
       "      <td>0</td>\n",
       "      <td>...</td>\n",
       "      <td>0</td>\n",
       "      <td>0</td>\n",
       "      <td>0</td>\n",
       "      <td>0</td>\n",
       "      <td>0</td>\n",
       "      <td>0</td>\n",
       "      <td>0</td>\n",
       "      <td>0</td>\n",
       "      <td>0</td>\n",
       "      <td>1</td>\n",
       "    </tr>\n",
       "    <tr>\n",
       "      <th>242282</th>\n",
       "      <td>1</td>\n",
       "      <td>16</td>\n",
       "      <td>16</td>\n",
       "      <td>65.0</td>\n",
       "      <td>196</td>\n",
       "      <td>18</td>\n",
       "      <td>1</td>\n",
       "      <td>0</td>\n",
       "      <td>0</td>\n",
       "      <td>0</td>\n",
       "      <td>...</td>\n",
       "      <td>0</td>\n",
       "      <td>0</td>\n",
       "      <td>0</td>\n",
       "      <td>0</td>\n",
       "      <td>0</td>\n",
       "      <td>0</td>\n",
       "      <td>0</td>\n",
       "      <td>0</td>\n",
       "      <td>0</td>\n",
       "      <td>1</td>\n",
       "    </tr>\n",
       "    <tr>\n",
       "      <th>474166</th>\n",
       "      <td>2</td>\n",
       "      <td>1</td>\n",
       "      <td>11</td>\n",
       "      <td>77.0</td>\n",
       "      <td>246</td>\n",
       "      <td>13</td>\n",
       "      <td>0</td>\n",
       "      <td>0</td>\n",
       "      <td>0</td>\n",
       "      <td>1</td>\n",
       "      <td>...</td>\n",
       "      <td>0</td>\n",
       "      <td>0</td>\n",
       "      <td>0</td>\n",
       "      <td>0</td>\n",
       "      <td>0</td>\n",
       "      <td>0</td>\n",
       "      <td>0</td>\n",
       "      <td>0</td>\n",
       "      <td>0</td>\n",
       "      <td>1</td>\n",
       "    </tr>\n",
       "  </tbody>\n",
       "</table>\n",
       "<p>5 rows × 658 columns</p>\n",
       "</div>"
      ],
      "text/plain": [
       "        MONTH  DAY  SCHEDULED_DEPARTURE  SCHEDULED_TIME  DISTANCE  \\\n",
       "448153      1   30                   12           179.0       936   \n",
       "300428      1   20                   17           264.0      1670   \n",
       "125665      1    8                   23            59.0       237   \n",
       "242282      1   16                   16            65.0       196   \n",
       "474166      2    1                   11            77.0       246   \n",
       "\n",
       "        SCHEDULED_ARRIVAL  DAY_OF_WEEK_Fri  DAY_OF_WEEK_Mon  DAY_OF_WEEK_Sat  \\\n",
       "448153                 14                1                0                0   \n",
       "300428                 20                0                0                0   \n",
       "125665                 24                0                0                0   \n",
       "242282                 18                1                0                0   \n",
       "474166                 13                0                0                0   \n",
       "\n",
       "        DAY_OF_WEEK_Sun   ...    DESTINATION_AIRPORT_TYS  \\\n",
       "448153                0   ...                          0   \n",
       "300428                0   ...                          0   \n",
       "125665                0   ...                          0   \n",
       "242282                0   ...                          0   \n",
       "474166                1   ...                          0   \n",
       "\n",
       "        DESTINATION_AIRPORT_UST  DESTINATION_AIRPORT_VEL  \\\n",
       "448153                        0                        0   \n",
       "300428                        0                        0   \n",
       "125665                        0                        0   \n",
       "242282                        0                        0   \n",
       "474166                        0                        0   \n",
       "\n",
       "        DESTINATION_AIRPORT_VLD  DESTINATION_AIRPORT_VPS  \\\n",
       "448153                        0                        0   \n",
       "300428                        0                        0   \n",
       "125665                        0                        0   \n",
       "242282                        0                        0   \n",
       "474166                        0                        0   \n",
       "\n",
       "        DESTINATION_AIRPORT_WRG  DESTINATION_AIRPORT_XNA  \\\n",
       "448153                        0                        0   \n",
       "300428                        0                        0   \n",
       "125665                        0                        0   \n",
       "242282                        0                        0   \n",
       "474166                        0                        0   \n",
       "\n",
       "        DESTINATION_AIRPORT_YAK  DESTINATION_AIRPORT_YUM  STATUS  \n",
       "448153                        0                        0       1  \n",
       "300428                        0                        0       1  \n",
       "125665                        0                        0       1  \n",
       "242282                        0                        0       1  \n",
       "474166                        0                        0       1  \n",
       "\n",
       "[5 rows x 658 columns]"
      ]
     },
     "execution_count": 52,
     "metadata": {},
     "output_type": "execute_result"
    }
   ],
   "source": [
    "modellingDataDownsampled.head()"
   ]
  },
  {
   "cell_type": "code",
   "execution_count": 78,
   "metadata": {
    "collapsed": true
   },
   "outputs": [],
   "source": [
    "\"\"\"\n",
    "Splitting the data to training and testing sets. To avoid look ahead bias in the\n",
    "time-series data, the data is not split randomly. The instances from January 1, 2015 to \n",
    "February 15, 2015 are included in the training data and the remaining instances are included\n",
    "in the testing data.\n",
    "\"\"\"\n",
    "train = modellingDataDownsampled[(modellingDataDownsampled['MONTH']==1) |\\\n",
    "                                 ((modellingDataDownsampled['MONTH']==2) & (modellingDataDownsampled['DAY'] < 16))]\n",
    "test = modellingDataDownsampled[(modellingDataDownsampled['MONTH']==2) & (modellingDataDownsampled['DAY'] >= 16)]"
   ]
  },
  {
   "cell_type": "code",
   "execution_count": 79,
   "metadata": {},
   "outputs": [
    {
     "data": {
      "text/plain": [
       "(402011, 658)"
      ]
     },
     "execution_count": 79,
     "metadata": {},
     "output_type": "execute_result"
    }
   ],
   "source": [
    "train.shape"
   ]
  },
  {
   "cell_type": "code",
   "execution_count": 80,
   "metadata": {},
   "outputs": [
    {
     "data": {
      "text/plain": [
       "(125825, 658)"
      ]
     },
     "execution_count": 80,
     "metadata": {},
     "output_type": "execute_result"
    }
   ],
   "source": [
    "test.shape"
   ]
  },
  {
   "cell_type": "code",
   "execution_count": 81,
   "metadata": {
    "collapsed": true
   },
   "outputs": [],
   "source": [
    "# splitting the features and class labels\n",
    "trainMatrix = train.as_matrix()\n",
    "testMatrix = test.as_matrix()\n",
    "features_train = trainMatrix[:,:657]\n",
    "labels_train = trainMatrix[:,657]\n",
    "features_test = testMatrix[:,:657]\n",
    "labels_test = testMatrix[:,657]"
   ]
  },
  {
   "cell_type": "markdown",
   "metadata": {},
   "source": [
    "## Implementation"
   ]
  },
  {
   "cell_type": "markdown",
   "metadata": {},
   "source": [
    "### Benchmark Model"
   ]
  },
  {
   "cell_type": "code",
   "execution_count": 82,
   "metadata": {},
   "outputs": [
    {
     "name": "stdout",
     "output_type": "stream",
     "text": [
      "accuracy of ZeroR rule: 50.01553512833532\n"
     ]
    }
   ],
   "source": [
    "print(\"accuracy of ZeroR rule: \"+str((264000/527836)*100))"
   ]
  },
  {
   "cell_type": "markdown",
   "metadata": {},
   "source": [
    "## Testing multiple classifiers"
   ]
  },
  {
   "cell_type": "code",
   "execution_count": 83,
   "metadata": {},
   "outputs": [
    {
     "data": {
      "text/plain": [
       "GaussianNB(priors=None)"
      ]
     },
     "execution_count": 83,
     "metadata": {},
     "output_type": "execute_result"
    }
   ],
   "source": [
    "# Gaussian Naive Bayes\n",
    "from sklearn.naive_bayes import GaussianNB\n",
    "gnb = GaussianNB()\n",
    "gnb.fit(features_train, labels_train)"
   ]
  },
  {
   "cell_type": "code",
   "execution_count": 84,
   "metadata": {
    "collapsed": true
   },
   "outputs": [],
   "source": [
    "from sklearn.metrics import accuracy_score, precision_score, recall_score, roc_auc_score"
   ]
  },
  {
   "cell_type": "code",
   "execution_count": 85,
   "metadata": {},
   "outputs": [
    {
     "name": "stdout",
     "output_type": "stream",
     "text": [
      "Accuracy: 58.6409696006\n",
      "Precision: 0.509488833377\n",
      "Recall: 0.260043007479\n",
      "Area under ROC: 0.580906166761\n"
     ]
    }
   ],
   "source": [
    "# predicting using Gaussian Naive Bayes\n",
    "pred_labels = gnb.predict(features_test)\n",
    "accuracy = accuracy_score(labels_test, pred_labels)\n",
    "precision = precision_score(labels_test, pred_labels)\n",
    "recall = recall_score(labels_test, pred_labels)\n",
    "print(\"Accuracy: \"+str(accuracy*100))\n",
    "print(\"Precision: \"+str(precision))\n",
    "print(\"Recall: \"+str(recall))\n",
    "prob_estimates = gnb.predict_proba(features_test)\n",
    "print(\"Area under ROC: \"+str(roc_auc_score(labels_test, prob_estimates[:,1])))"
   ]
  },
  {
   "cell_type": "code",
   "execution_count": 86,
   "metadata": {},
   "outputs": [
    {
     "data": {
      "text/plain": [
       "DecisionTreeClassifier(class_weight=None, criterion='gini', max_depth=None,\n",
       "            max_features=None, max_leaf_nodes=None,\n",
       "            min_impurity_decrease=0.0, min_impurity_split=None,\n",
       "            min_samples_leaf=1, min_samples_split=2,\n",
       "            min_weight_fraction_leaf=0.0, presort=False, random_state=None,\n",
       "            splitter='best')"
      ]
     },
     "execution_count": 86,
     "metadata": {},
     "output_type": "execute_result"
    }
   ],
   "source": [
    "# decision tree\n",
    "from sklearn import tree\n",
    "clf = tree.DecisionTreeClassifier()\n",
    "clf.fit(features_train, labels_train)"
   ]
  },
  {
   "cell_type": "code",
   "execution_count": 87,
   "metadata": {},
   "outputs": [
    {
     "name": "stdout",
     "output_type": "stream",
     "text": [
      "Accuracy: 52.9696006358\n",
      "Precision: 0.458955270101\n",
      "Recall: 0.705075263088\n",
      "Area under ROC: 0.554506226838\n"
     ]
    }
   ],
   "source": [
    "# predicting using Decision Tree\n",
    "pred_labels = clf.predict(features_test)\n",
    "accuracy = accuracy_score(labels_test, pred_labels)\n",
    "precision = precision_score(labels_test, pred_labels)\n",
    "recall = recall_score(labels_test, pred_labels)\n",
    "print(\"Accuracy: \"+str(accuracy*100))\n",
    "print(\"Precision: \"+str(precision))\n",
    "print(\"Recall: \"+str(recall))\n",
    "prob_estimates = clf.predict_proba(features_test)\n",
    "print(\"Area under ROC: \"+str(roc_auc_score(labels_test, prob_estimates[:,1])))"
   ]
  },
  {
   "cell_type": "code",
   "execution_count": 90,
   "metadata": {
    "collapsed": true
   },
   "outputs": [],
   "source": [
    "from sklearn.feature_selection import SelectKBest\n",
    "import warnings\n",
    "warnings.filterwarnings(\"ignore\")"
   ]
  },
  {
   "cell_type": "code",
   "execution_count": 91,
   "metadata": {
    "collapsed": true
   },
   "outputs": [],
   "source": [
    "# finding best 'k' for feature selection\n",
    "def trainClassifier(clf, startK, endK, stepK):\n",
    "    \"\"\"\n",
    "    This function is used to identify the number of features for feature selection.\n",
    "    This function takes in a classifer object as input, trains the classifier on \n",
    "    traing data and measures its performance on testing data to identify the best\n",
    "    number of features\n",
    "    \"\"\"\n",
    "    for numFeatures in range(startK, endK, stepK):\n",
    "        skb = SelectKBest(k=numFeatures)\n",
    "        skb.fit(features_train, labels_train)\n",
    "        transformed_features_train = skb.transform(features_train)\n",
    "        transformed_features_test = skb.transform(features_test)\n",
    "        clf.fit(transformed_features_train, labels_train)\n",
    "        print(\"k = \"+str(numFeatures))\n",
    "        pred_labels = clf.predict(transformed_features_test)\n",
    "        accuracy = accuracy_score(labels_test, pred_labels)\n",
    "        precision = precision_score(labels_test, pred_labels)\n",
    "        recall = recall_score(labels_test, pred_labels)\n",
    "        print(\"Accuracy: \"+str(accuracy*100))\n",
    "        print(\"Precision: \"+str(precision))\n",
    "        print(\"Recall: \"+str(recall))\n",
    "        prob_estimates = clf.predict_proba(transformed_features_test)\n",
    "        print(\"Area under ROC: \"+str(roc_auc_score(labels_test, prob_estimates[:,1])))"
   ]
  },
  {
   "cell_type": "code",
   "execution_count": 92,
   "metadata": {},
   "outputs": [
    {
     "name": "stdout",
     "output_type": "stream",
     "text": [
      "k = 50\n",
      "Accuracy: 58.9461553745\n",
      "Precision: 0.507532432478\n",
      "Recall: 0.572513273326\n",
      "Area under ROC: 0.60249759836\n",
      "k = 100\n",
      "Accuracy: 59.0113252533\n",
      "Precision: 0.514195859177\n",
      "Recall: 0.336029229862\n",
      "Area under ROC: 0.596223388185\n",
      "k = 150\n",
      "Accuracy: 59.162328631\n",
      "Precision: 0.522673309719\n",
      "Recall: 0.255532931169\n",
      "Area under ROC: 0.59497849304\n",
      "k = 200\n",
      "Accuracy: 59.3411484204\n",
      "Precision: 0.529226240538\n",
      "Recall: 0.239490761004\n",
      "Area under ROC: 0.592196273727\n",
      "k = 250\n",
      "Accuracy: 59.2131929267\n",
      "Precision: 0.525922801097\n",
      "Recall: 0.237245237778\n",
      "Area under ROC: 0.591529664502\n",
      "k = 300\n",
      "Accuracy: 58.8309159547\n",
      "Precision: 0.516059773274\n",
      "Recall: 0.228700831605\n",
      "Area under ROC: 0.589293270549\n"
     ]
    }
   ],
   "source": [
    "# gaussian naive bayes\n",
    "gnb = GaussianNB()\n",
    "trainClassifier(gnb,50,301,50)"
   ]
  },
  {
   "cell_type": "code",
   "execution_count": 93,
   "metadata": {},
   "outputs": [
    {
     "name": "stdout",
     "output_type": "stream",
     "text": [
      "k = 10\n",
      "Accuracy: 51.6018279356\n",
      "Precision: 0.455340138238\n",
      "Recall: 0.809853660393\n",
      "Area under ROC: 0.607853173154\n",
      "k = 20\n",
      "Accuracy: 55.8497913769\n",
      "Precision: 0.48024991779\n",
      "Recall: 0.69479913985\n",
      "Area under ROC: 0.599281889346\n",
      "k = 30\n",
      "Accuracy: 56.5412278959\n",
      "Precision: 0.485587643076\n",
      "Recall: 0.683799882015\n",
      "Area under ROC: 0.605660625837\n",
      "k = 40\n",
      "Accuracy: 56.8678720445\n",
      "Precision: 0.488079745258\n",
      "Recall: 0.670878608537\n",
      "Area under ROC: 0.605565938426\n",
      "k = 50\n",
      "Accuracy: 58.9461553745\n",
      "Precision: 0.507532432478\n",
      "Recall: 0.572513273326\n",
      "Area under ROC: 0.60249759836\n",
      "k = 60\n",
      "Accuracy: 59.3626067952\n",
      "Precision: 0.512903167058\n",
      "Recall: 0.535937886544\n",
      "Area under ROC: 0.601316841336\n",
      "k = 70\n",
      "Accuracy: 58.6020266243\n",
      "Precision: 0.505604834779\n",
      "Recall: 0.394831490609\n",
      "Area under ROC: 0.601648685714\n"
     ]
    }
   ],
   "source": [
    "gnb = GaussianNB()\n",
    "trainClassifier(gnb,10,71,10)"
   ]
  },
  {
   "cell_type": "code",
   "execution_count": 94,
   "metadata": {},
   "outputs": [
    {
     "name": "stdout",
     "output_type": "stream",
     "text": [
      "k = 10\n",
      "Accuracy: 50.168090602\n",
      "Precision: 0.447919231716\n",
      "Recall: 0.830767474167\n",
      "Area under ROC: 0.593178159699\n",
      "k = 20\n",
      "Accuracy: 52.4593681701\n",
      "Precision: 0.456268274194\n",
      "Recall: 0.721612209557\n",
      "Area under ROC: 0.575882173527\n",
      "k = 30\n",
      "Accuracy: 53.1913371746\n",
      "Precision: 0.460928652322\n",
      "Recall: 0.712553997222\n",
      "Area under ROC: 0.583555463519\n",
      "k = 40\n",
      "Accuracy: 53.3542618716\n",
      "Precision: 0.462175042794\n",
      "Recall: 0.714190564996\n",
      "Area under ROC: 0.583899619937\n",
      "k = 50\n",
      "Accuracy: 52.9465527518\n",
      "Precision: 0.459267600117\n",
      "Recall: 0.714076385849\n",
      "Area under ROC: 0.583744032358\n",
      "k = 60\n",
      "Accuracy: 52.871051063\n",
      "Precision: 0.458634085367\n",
      "Recall: 0.712192429923\n",
      "Area under ROC: 0.581838359836\n",
      "k = 70\n",
      "Accuracy: 53.1579574806\n",
      "Precision: 0.460785035717\n",
      "Recall: 0.714418923291\n",
      "Area under ROC: 0.585059916539\n"
     ]
    }
   ],
   "source": [
    "# Decision Tree\n",
    "dt = tree.DecisionTreeClassifier(min_samples_split = 20)\n",
    "trainClassifier(dt,10,71,10)"
   ]
  },
  {
   "cell_type": "code",
   "execution_count": 95,
   "metadata": {
    "collapsed": true
   },
   "outputs": [],
   "source": [
    "# performing feature selection on the data\n",
    "skb = SelectKBest(k=50)\n",
    "skb.fit(features_train, labels_train)\n",
    "transformed_features_train = skb.transform(features_train)\n",
    "transformed_features_test = skb.transform(features_test)"
   ]
  },
  {
   "cell_type": "code",
   "execution_count": 96,
   "metadata": {},
   "outputs": [
    {
     "name": "stdout",
     "output_type": "stream",
     "text": [
      "[  8 426 239 559  42  64 164  76  91 257 109 564 188 379 519  21   0 622\n",
      " 130 183 204 217 249 614 307  55  45   1  26  24  23 360  20  19  18  17\n",
      "  16  15  14 406  12  11   9 498   7   5   4   3   2 110]\n"
     ]
    },
    {
     "data": {
      "text/plain": [
       "['DAY_OF_WEEK_Sat',\n",
       " 'DESTINATION_AIRPORT_DFW',\n",
       " 'ORIGIN_AIRPORT_MSY',\n",
       " 'DESTINATION_AIRPORT_OGG',\n",
       " 'ORIGIN_AIRPORT_ANC',\n",
       " 'ORIGIN_AIRPORT_BOS',\n",
       " 'ORIGIN_AIRPORT_HNL',\n",
       " 'ORIGIN_AIRPORT_BWI',\n",
       " 'ORIGIN_AIRPORT_CLT',\n",
       " 'ORIGIN_AIRPORT_PDX',\n",
       " 'ORIGIN_AIRPORT_DCA',\n",
       " 'DESTINATION_AIRPORT_ORD',\n",
       " 'ORIGIN_AIRPORT_JFK',\n",
       " 'DESTINATION_AIRPORT_BOS',\n",
       " 'DESTINATION_AIRPORT_LGA',\n",
       " 'AIRLINE_NK',\n",
       " 'MONTH',\n",
       " 'DESTINATION_AIRPORT_SLC',\n",
       " 'ORIGIN_AIRPORT_EWR',\n",
       " 'ORIGIN_AIRPORT_ITH',\n",
       " 'ORIGIN_AIRPORT_LGA',\n",
       " 'ORIGIN_AIRPORT_MDW',\n",
       " 'ORIGIN_AIRPORT_ORD',\n",
       " 'DESTINATION_AIRPORT_SFO',\n",
       " 'ORIGIN_AIRPORT_SLC',\n",
       " 'ORIGIN_AIRPORT_BGR',\n",
       " 'ORIGIN_AIRPORT_ATL',\n",
       " 'DAY',\n",
       " 'AIRLINE_WN',\n",
       " 'AIRLINE_US',\n",
       " 'AIRLINE_UA',\n",
       " 'DESTINATION_AIRPORT_ATL',\n",
       " 'AIRLINE_MQ',\n",
       " 'AIRLINE_HA',\n",
       " 'AIRLINE_F9',\n",
       " 'AIRLINE_EV',\n",
       " 'AIRLINE_DL',\n",
       " 'AIRLINE_B6',\n",
       " 'AIRLINE_AS',\n",
       " 'DESTINATION_AIRPORT_CLT',\n",
       " 'DAY_OF_WEEK_Wed',\n",
       " 'DAY_OF_WEEK_Tue',\n",
       " 'DAY_OF_WEEK_Sun',\n",
       " 'DESTINATION_AIRPORT_ITH',\n",
       " 'DAY_OF_WEEK_Mon',\n",
       " 'SCHEDULED_ARRIVAL',\n",
       " 'DISTANCE',\n",
       " 'SCHEDULED_TIME',\n",
       " 'SCHEDULED_DEPARTURE',\n",
       " 'ORIGIN_AIRPORT_DEN']"
      ]
     },
     "execution_count": 96,
     "metadata": {},
     "output_type": "execute_result"
    }
   ],
   "source": [
    "# displaying best features\n",
    "features_scores = skb.scores_\n",
    "features_scores = np.array(features_scores)\n",
    "indices = np.argpartition(features_scores, -50)[-50:]\n",
    "print(indices)\n",
    "featureNames = modellingDataDownsampled.columns.tolist()\n",
    "bestFeatures = []\n",
    "for index in indices:\n",
    "    bestFeatures.append(featureNames[index])\n",
    "bestFeatures"
   ]
  },
  {
   "cell_type": "code",
   "execution_count": 97,
   "metadata": {
    "collapsed": true
   },
   "outputs": [],
   "source": [
    "from sklearn.ensemble import RandomForestClassifier"
   ]
  },
  {
   "cell_type": "code",
   "execution_count": 98,
   "metadata": {
    "collapsed": true
   },
   "outputs": [],
   "source": [
    "def runClassifier(clf):\n",
    "    \"\"\"\n",
    "    This function trains a classifier on the traing data and measures\n",
    "    the classifier's performance on the testing data\n",
    "    \"\"\"\n",
    "    clf.fit(transformed_features_train, labels_train)\n",
    "    pred_labels = clf.predict(transformed_features_test)\n",
    "    accuracy = accuracy_score(labels_test, pred_labels)\n",
    "    precision = precision_score(labels_test, pred_labels)\n",
    "    recall = recall_score(labels_test, pred_labels)\n",
    "    print(\"Accuracy: \"+str(accuracy*100))\n",
    "    print(\"Precision: \"+str(precision))\n",
    "    print(\"Recall: \"+str(recall))\n",
    "    prob_estimates = clf.predict_proba(transformed_features_test)\n",
    "    print(\"Area under ROC: \"+str(roc_auc_score(labels_test, prob_estimates[:,1])))"
   ]
  },
  {
   "cell_type": "code",
   "execution_count": 99,
   "metadata": {},
   "outputs": [
    {
     "name": "stdout",
     "output_type": "stream",
     "text": [
      "num estimatores: 30\n",
      "Accuracy: 54.3405523545\n",
      "Precision: 0.474122640314\n",
      "Recall: 0.854573826334\n",
      "Area under ROC: 0.662464159651\n",
      "num estimatores: 60\n",
      "Accuracy: 54.6306377906\n",
      "Precision: 0.475994963016\n",
      "Recall: 0.856001065672\n",
      "Area under ROC: 0.665443385102\n",
      "num estimatores: 90\n",
      "Accuracy: 54.786409696\n",
      "Precision: 0.476921113911\n",
      "Recall: 0.85354621401\n",
      "Area under ROC: 0.666569648395\n",
      "num estimatores: 120\n",
      "Accuracy: 54.9517186569\n",
      "Precision: 0.477998871464\n",
      "Recall: 0.854383527755\n",
      "Area under ROC: 0.667594047697\n",
      "num estimatores: 150\n",
      "Accuracy: 54.8627061395\n",
      "Precision: 0.477454510691\n",
      "Recall: 0.855373080363\n",
      "Area under ROC: 0.668066176637\n"
     ]
    }
   ],
   "source": [
    "# random forest\n",
    "for num in range(30,151,30):\n",
    "    rf = RandomForestClassifier(n_estimators = num, criterion = 'entropy', min_samples_split=20, random_state=42)\n",
    "    print(\"num estimatores: \"+str(num))\n",
    "    runClassifier(rf)"
   ]
  },
  {
   "cell_type": "code",
   "execution_count": 100,
   "metadata": {},
   "outputs": [
    {
     "name": "stdout",
     "output_type": "stream",
     "text": [
      "num estimatores: 200\n",
      "Accuracy: 54.8491953109\n",
      "Precision: 0.477475477761\n",
      "Recall: 0.859635768521\n",
      "Area under ROC: 0.671088756979\n",
      "num estimatores: 250\n",
      "Accuracy: 54.8420425194\n",
      "Precision: 0.477429105937\n",
      "Recall: 0.859597708805\n",
      "Area under ROC: 0.671264559692\n",
      "num estimatores: 300\n",
      "Accuracy: 54.8325054639\n",
      "Precision: 0.477372864343\n",
      "Recall: 0.859768977526\n",
      "Area under ROC: 0.67122673137\n",
      "num estimatores: 350\n",
      "Accuracy: 54.8245579177\n",
      "Precision: 0.477358789093\n",
      "Recall: 0.861215246722\n",
      "Area under ROC: 0.671326209487\n",
      "num estimatores: 400\n",
      "Accuracy: 54.7752831313\n",
      "Precision: 0.477046328994\n",
      "Recall: 0.861196216864\n",
      "Area under ROC: 0.671334950506\n"
     ]
    }
   ],
   "source": [
    "for num in range(200,401,50):\n",
    "    rf = RandomForestClassifier(n_estimators = num, criterion = 'entropy', min_samples_split=40, random_state=42)\n",
    "    print(\"num estimatores: \"+str(num))\n",
    "    runClassifier(rf)"
   ]
  },
  {
   "cell_type": "code",
   "execution_count": 101,
   "metadata": {
    "collapsed": true
   },
   "outputs": [],
   "source": [
    "from sklearn.linear_model import LogisticRegression"
   ]
  },
  {
   "cell_type": "code",
   "execution_count": 102,
   "metadata": {},
   "outputs": [
    {
     "name": "stdout",
     "output_type": "stream",
     "text": [
      "Accuracy: 46.9143651897\n",
      "Precision: 0.437853353807\n",
      "Recall: 0.95501341605\n",
      "Area under ROC: 0.649729208078\n"
     ]
    }
   ],
   "source": [
    "lr = LogisticRegression(penalty = 'l2')\n",
    "runClassifier(lr"
   ]
  },
  {
   "cell_type": "code",
   "execution_count": 135,
   "metadata": {},
   "outputs": [
    {
     "data": {
      "text/plain": [
       "RandomForestClassifier(bootstrap=True, class_weight=None, criterion='entropy',\n",
       "            max_depth=None, max_features='auto', max_leaf_nodes=None,\n",
       "            min_impurity_decrease=0.0, min_impurity_split=None,\n",
       "            min_samples_leaf=1, min_samples_split=40,\n",
       "            min_weight_fraction_leaf=0.0, n_estimators=200, n_jobs=1,\n",
       "            oob_score=False, random_state=42, verbose=0, warm_start=False)"
      ]
     },
     "execution_count": 135,
     "metadata": {},
     "output_type": "execute_result"
    }
   ],
   "source": [
    "# final Random Forest Model\n",
    "rfc = RandomForestClassifier(n_estimators = 200, criterion = 'entropy', min_samples_split=40, random_state=42)\n",
    "rfc.fit(transformed_features_train, labels_train)"
   ]
  },
  {
   "cell_type": "markdown",
   "metadata": {},
   "source": [
    "## Validating the final model"
   ]
  },
  {
   "cell_type": "code",
   "execution_count": 128,
   "metadata": {},
   "outputs": [
    {
     "data": {
      "text/html": [
       "<div>\n",
       "<style>\n",
       "    .dataframe thead tr:only-child th {\n",
       "        text-align: right;\n",
       "    }\n",
       "\n",
       "    .dataframe thead th {\n",
       "        text-align: left;\n",
       "    }\n",
       "\n",
       "    .dataframe tbody tr th {\n",
       "        vertical-align: top;\n",
       "    }\n",
       "</style>\n",
       "<table border=\"1\" class=\"dataframe\">\n",
       "  <thead>\n",
       "    <tr style=\"text-align: right;\">\n",
       "      <th></th>\n",
       "      <th>YEAR</th>\n",
       "      <th>MONTH</th>\n",
       "      <th>DAY</th>\n",
       "      <th>DAY_OF_WEEK</th>\n",
       "      <th>AIRLINE</th>\n",
       "      <th>ORIGIN_AIRPORT</th>\n",
       "      <th>DESTINATION_AIRPORT</th>\n",
       "      <th>SCHEDULED_DEPARTURE</th>\n",
       "      <th>DEPARTURE_TIME</th>\n",
       "      <th>DEPARTURE_DELAY</th>\n",
       "      <th>SCHEDULED_TIME</th>\n",
       "      <th>DISTANCE</th>\n",
       "      <th>SCHEDULED_ARRIVAL</th>\n",
       "      <th>STATUS</th>\n",
       "    </tr>\n",
       "  </thead>\n",
       "  <tbody>\n",
       "    <tr>\n",
       "      <th>899160</th>\n",
       "      <td>2015</td>\n",
       "      <td>3</td>\n",
       "      <td>1</td>\n",
       "      <td>7</td>\n",
       "      <td>AS</td>\n",
       "      <td>ANC</td>\n",
       "      <td>SEA</td>\n",
       "      <td>1</td>\n",
       "      <td>1</td>\n",
       "      <td>27.0</td>\n",
       "      <td>202.0</td>\n",
       "      <td>1448</td>\n",
       "      <td>5</td>\n",
       "      <td>delayed</td>\n",
       "    </tr>\n",
       "    <tr>\n",
       "      <th>899161</th>\n",
       "      <td>2015</td>\n",
       "      <td>3</td>\n",
       "      <td>1</td>\n",
       "      <td>7</td>\n",
       "      <td>DL</td>\n",
       "      <td>DEN</td>\n",
       "      <td>ATL</td>\n",
       "      <td>1</td>\n",
       "      <td>1</td>\n",
       "      <td>2.0</td>\n",
       "      <td>176.0</td>\n",
       "      <td>1199</td>\n",
       "      <td>6</td>\n",
       "      <td>on time</td>\n",
       "    </tr>\n",
       "    <tr>\n",
       "      <th>899162</th>\n",
       "      <td>2015</td>\n",
       "      <td>3</td>\n",
       "      <td>1</td>\n",
       "      <td>7</td>\n",
       "      <td>US</td>\n",
       "      <td>PHX</td>\n",
       "      <td>CLT</td>\n",
       "      <td>1</td>\n",
       "      <td>1</td>\n",
       "      <td>-1.0</td>\n",
       "      <td>225.0</td>\n",
       "      <td>1773</td>\n",
       "      <td>7</td>\n",
       "      <td>on time</td>\n",
       "    </tr>\n",
       "    <tr>\n",
       "      <th>899163</th>\n",
       "      <td>2015</td>\n",
       "      <td>3</td>\n",
       "      <td>1</td>\n",
       "      <td>7</td>\n",
       "      <td>AA</td>\n",
       "      <td>LAX</td>\n",
       "      <td>MIA</td>\n",
       "      <td>1</td>\n",
       "      <td>1</td>\n",
       "      <td>-4.0</td>\n",
       "      <td>284.0</td>\n",
       "      <td>2342</td>\n",
       "      <td>9</td>\n",
       "      <td>on time</td>\n",
       "    </tr>\n",
       "    <tr>\n",
       "      <th>899164</th>\n",
       "      <td>2015</td>\n",
       "      <td>3</td>\n",
       "      <td>1</td>\n",
       "      <td>7</td>\n",
       "      <td>NK</td>\n",
       "      <td>LAS</td>\n",
       "      <td>MSP</td>\n",
       "      <td>1</td>\n",
       "      <td>2</td>\n",
       "      <td>86.0</td>\n",
       "      <td>177.0</td>\n",
       "      <td>1299</td>\n",
       "      <td>6</td>\n",
       "      <td>delayed</td>\n",
       "    </tr>\n",
       "  </tbody>\n",
       "</table>\n",
       "</div>"
      ],
      "text/plain": [
       "        YEAR  MONTH  DAY  DAY_OF_WEEK AIRLINE ORIGIN_AIRPORT  \\\n",
       "899160  2015      3    1            7      AS            ANC   \n",
       "899161  2015      3    1            7      DL            DEN   \n",
       "899162  2015      3    1            7      US            PHX   \n",
       "899163  2015      3    1            7      AA            LAX   \n",
       "899164  2015      3    1            7      NK            LAS   \n",
       "\n",
       "       DESTINATION_AIRPORT  SCHEDULED_DEPARTURE  DEPARTURE_TIME  \\\n",
       "899160                 SEA                    1               1   \n",
       "899161                 ATL                    1               1   \n",
       "899162                 CLT                    1               1   \n",
       "899163                 MIA                    1               1   \n",
       "899164                 MSP                    1               2   \n",
       "\n",
       "        DEPARTURE_DELAY  SCHEDULED_TIME  DISTANCE  SCHEDULED_ARRIVAL   STATUS  \n",
       "899160             27.0           202.0      1448                  5  delayed  \n",
       "899161              2.0           176.0      1199                  6  on time  \n",
       "899162             -1.0           225.0      1773                  7  on time  \n",
       "899163             -4.0           284.0      2342                  9  on time  \n",
       "899164             86.0           177.0      1299                  6  delayed  "
      ]
     },
     "execution_count": 128,
     "metadata": {},
     "output_type": "execute_result"
    }
   ],
   "source": [
    "# extracting the validation set\n",
    "validationData = flights[(flights['MONTH'] == 3) & (flights['DAY'] <= 10)]\n",
    "validationData.head()"
   ]
  },
  {
   "cell_type": "code",
   "execution_count": 129,
   "metadata": {
    "collapsed": true
   },
   "outputs": [],
   "source": [
    "# removing unnecessary columns and changing the format of categorical features\n",
    "validationData = validationData.drop(['YEAR','DEPARTURE_TIME','DEPARTURE_DELAY'],axis = 1)\n",
    "validationData = validationData.replace({\"DAY_OF_WEEK\":replaceWeekDay,\"STATUS\":replaceStatus})\n",
    "validationData = pd.get_dummies(validationData, \\\n",
    "                                    columns=[\"DAY_OF_WEEK\",\"AIRLINE\",\"ORIGIN_AIRPORT\",\"DESTINATION_AIRPORT\"],\\\n",
    "                                    prefix=[\"DAY_OF_WEEK\",\"AIRLINE\",\"ORIGIN_AIRPORT\",\"DESTINATION_AIRPORT\"])"
   ]
  },
  {
   "cell_type": "code",
   "execution_count": 130,
   "metadata": {},
   "outputs": [],
   "source": [
    "for columnName in ['ORIGIN_AIRPORT_BGM','ORIGIN_AIRPORT_ITH','ORIGIN_AIRPORT_STC','DESTINATION_AIRPORT_BGM',\\\n",
    "                'DESTINATION_AIRPORT_BGR','DESTINATION_AIRPORT_ITH','DESTINATION_AIRPORT_STC']:\n",
    "    validationData[columnName] = 0"
   ]
  },
  {
   "cell_type": "code",
   "execution_count": 131,
   "metadata": {
    "collapsed": true
   },
   "outputs": [],
   "source": [
    "columns = validationData.columns.tolist()\n",
    "columns.remove('STATUS')\n",
    "columns = columns + ['STATUS']\n",
    "validationData = validationData[columns]"
   ]
  },
  {
   "cell_type": "code",
   "execution_count": 132,
   "metadata": {
    "collapsed": true
   },
   "outputs": [],
   "source": [
    "# separating the features and labels\n",
    "validationData = validationData.as_matrix()\n",
    "features_validation = validationData[:,:657]\n",
    "labels_validation = validationData[:,657]"
   ]
  },
  {
   "cell_type": "code",
   "execution_count": 133,
   "metadata": {},
   "outputs": [],
   "source": [
    "# transforming the features\n",
    "transformed_features_validation = skb.transform(features_validation)"
   ]
  },
  {
   "cell_type": "code",
   "execution_count": 136,
   "metadata": {},
   "outputs": [
    {
     "name": "stdout",
     "output_type": "stream",
     "text": [
      "Accuracy: 64.166764779\n",
      "Precision: 0.706743859448\n",
      "Recall: 0.754367001479\n",
      "Area under ROC: 0.65144188708\n"
     ]
    }
   ],
   "source": [
    "# evaluating the model\n",
    "pred_labels = rfc.predict(transformed_features_validation)\n",
    "accuracy = accuracy_score(labels_validation, pred_labels)\n",
    "precision = precision_score(labels_validation, pred_labels)\n",
    "recall = recall_score(labels_validation, pred_labels)\n",
    "print(\"Accuracy: \"+str(accuracy*100))\n",
    "print(\"Precision: \"+str(precision))\n",
    "print(\"Recall: \"+str(recall))\n",
    "prob_estimates = rfc.predict_proba(transformed_features_validation)\n",
    "print(\"Area under ROC: \"+str(roc_auc_score(labels_validation, prob_estimates[:,1])))"
   ]
  },
  {
   "cell_type": "code",
   "execution_count": null,
   "metadata": {
    "collapsed": true
   },
   "outputs": [],
   "source": []
  }
 ],
 "metadata": {
  "kernelspec": {
   "display_name": "Python 3",
   "language": "python",
   "name": "python3"
  },
  "language_info": {
   "codemirror_mode": {
    "name": "ipython",
    "version": 3
   },
   "file_extension": ".py",
   "mimetype": "text/x-python",
   "name": "python",
   "nbconvert_exporter": "python",
   "pygments_lexer": "ipython3",
   "version": "3.6.1"
  }
 },
 "nbformat": 4,
 "nbformat_minor": 2
}
